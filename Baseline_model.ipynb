{
  "nbformat": 4,
  "nbformat_minor": 0,
  "metadata": {
    "colab": {
      "provenance": [],
      "authorship_tag": "ABX9TyPSc/Jj1E5PAJHWaWsATnS3",
      "include_colab_link": true
    },
    "kernelspec": {
      "name": "python3",
      "display_name": "Python 3"
    },
    "language_info": {
      "name": "python"
    }
  },
  "cells": [
    {
      "cell_type": "markdown",
      "metadata": {
        "id": "view-in-github",
        "colab_type": "text"
      },
      "source": [
        "<a href=\"https://colab.research.google.com/github/pragatipatel26/Image-Processing/blob/main/Baseline_model.ipynb\" target=\"_parent\"><img src=\"https://colab.research.google.com/assets/colab-badge.svg\" alt=\"Open In Colab\"/></a>"
      ]
    },
    {
      "cell_type": "code",
      "execution_count": null,
      "metadata": {
        "colab": {
          "base_uri": "https://localhost:8080/"
        },
        "id": "vTkuM4zCy34q",
        "outputId": "432c19a3-38c1-4b0e-a1d6-4f703683a122"
      },
      "outputs": [
        {
          "output_type": "stream",
          "name": "stdout",
          "text": [
            "Mounted at /content/drive\n"
          ]
        }
      ],
      "source": [
        "from google.colab import drive\n",
        "drive.mount('/content/drive')\n"
      ]
    },
    {
      "cell_type": "code",
      "source": [
        "zip_path = \"/content/drive/My Drive/Dataset.zip\"\n",
        "extract_path = \"/content/dataset\"  # Local extraction folder in Colab\n",
        "\n",
        "import zipfile\n",
        "\n",
        "with zipfile.ZipFile(zip_path, 'r') as zip_ref:\n",
        "    zip_ref.extractall(extract_path)\n",
        "\n",
        "print(\"Extracted to:\", extract_path)\n",
        "\n"
      ],
      "metadata": {
        "colab": {
          "base_uri": "https://localhost:8080/"
        },
        "id": "yWNO11PPzI36",
        "outputId": "7eb3556f-19fb-47b2-a2df-942c3ba9ad6d"
      },
      "execution_count": null,
      "outputs": [
        {
          "output_type": "stream",
          "name": "stdout",
          "text": [
            "Extracted to: /content/dataset\n"
          ]
        }
      ]
    },
    {
      "cell_type": "code",
      "source": [
        "import os\n",
        "for root, dirs, files in os.walk(extract_path):\n",
        "    print( root)\n",
        "    for f in files[:5]:  # show only a few files per folder\n",
        "        print(\"   └──\", f)"
      ],
      "metadata": {
        "colab": {
          "base_uri": "https://localhost:8080/"
        },
        "id": "-7Ny-sdA62oc",
        "outputId": "8f4d8f65-4c45-4c4c-dc1b-2416b065de62"
      },
      "execution_count": null,
      "outputs": [
        {
          "output_type": "stream",
          "name": "stdout",
          "text": [
            "/content/dataset\n",
            "   └── README.dataset.txt\n",
            "   └── README.roboflow.txt\n",
            "/content/dataset/train\n",
            "   └── 9622959c1_jpg.rf.829934e7cc9a8f37416a9fd28666b488.jpg\n",
            "   └── e89c99064_jpg.rf.702ee180833055c6b69c5f616bc140d6.jpg\n",
            "   └── 3377332c0_jpg.rf.41379884d1a7244c2dcca33ab7510bf0.jpg\n",
            "   └── 6f405f1e3_jpg.rf.357dbb6fb6e095a566845d53616ad989.jpg\n",
            "   └── 2f54e2c00_jpg.rf.7f23eb007bda002f084c1341817b566c.jpg\n",
            "/content/dataset/valid\n",
            "   └── e29f1a47a_jpg.rf.1b3dbfd9c1a44a9f07c12e53120e45b3.jpg\n",
            "   └── 99855ae32_jpg.rf.f2a66dc503280fb4eee79acf841652f9.jpg\n",
            "   └── 343e101ee_jpg.rf.22d3091a2f68dd8328fba8c67e4e0fbb.jpg\n",
            "   └── 9b2801e98_jpg.rf.8e03498534069ae49d88ce1a5629bb4f.jpg\n",
            "   └── 39b2dbb9b_jpg.rf.a34c2a9fefcd7157a88ea96322685ae9.jpg\n",
            "/content/dataset/test\n",
            "   └── c319a0d11_jpg.rf.38d2f3378f53434b35fa2e3efa7ae2aa.jpg\n",
            "   └── 49fa7d0fa_jpg.rf.ef68cbf7e45fa7afceea3a9b883bfb5e.jpg\n",
            "   └── 06f4583b1_jpg.rf.14b667f5df309d5cae90fd0ab5c5d165.jpg\n",
            "   └── 8b495e389_jpg.rf.dd76ba62cc432ed30aec8e1c845902d3.jpg\n",
            "   └── 24256f234_jpg.rf.8bdf257c75530d99893014749a257303.jpg\n"
          ]
        }
      ]
    },
    {
      "cell_type": "code",
      "source": [
        "import glob\n",
        "\n",
        "# Look for all CSV and Excel files in the dataset directory\n",
        "csv_files = glob.glob(\"/content/dataset/**/*.csv\", recursive=True)\n",
        "excel_files = glob.glob(\"/content/dataset/**/*.xlsx\", recursive=True)\n",
        "\n",
        "print(\"CSV files found:\", csv_files)\n",
        "print(\"Excel files found:\", excel_files)"
      ],
      "metadata": {
        "colab": {
          "base_uri": "https://localhost:8080/"
        },
        "id": "kYDNVbpU650D",
        "outputId": "6089bc9e-6d75-4cc5-d32e-9e7cb2258d46"
      },
      "execution_count": null,
      "outputs": [
        {
          "output_type": "stream",
          "name": "stdout",
          "text": [
            "CSV files found: ['/content/dataset/train/_annotations.csv', '/content/dataset/valid/_annotations.csv', '/content/dataset/test/_annotations.csv']\n",
            "Excel files found: []\n"
          ]
        }
      ]
    },
    {
      "cell_type": "code",
      "source": [
        "import pandas as pd\n",
        "\n",
        "train_csv = \"/content/dataset/train/_annotations.csv\"\n",
        "df_train = pd.read_csv(train_csv)\n",
        "print(\"Train CSV columns:\\n\", df_train.columns)\n",
        "print(\"\\nSample rows:\")\n",
        "print(df_train.head())\n"
      ],
      "metadata": {
        "colab": {
          "base_uri": "https://localhost:8080/"
        },
        "id": "nKt2qOan6_If",
        "outputId": "7b62dfe6-8ce9-41b1-d0ee-9cae872b263a"
      },
      "execution_count": null,
      "outputs": [
        {
          "output_type": "stream",
          "name": "stdout",
          "text": [
            "Train CSV columns:\n",
            " Index(['filename', 'width', 'height', 'class', 'xmin', 'ymin', 'xmax', 'ymax'], dtype='object')\n",
            "\n",
            "Sample rows:\n",
            "                                            filename  width  height  \\\n",
            "0  6212e44a0_jpg.rf.eca9d0d2821273911813398f6cf9b...    512     256   \n",
            "1  6212e44a0_jpg.rf.eca9d0d2821273911813398f6cf9b...    512     256   \n",
            "2  43b6618bf_jpg.rf.ec7a7bcb21bcc7881051906d564ba...    512     256   \n",
            "3  43b6618bf_jpg.rf.ec7a7bcb21bcc7881051906d564ba...    512     256   \n",
            "4  43b6618bf_jpg.rf.ec7a7bcb21bcc7881051906d564ba...    512     256   \n",
            "\n",
            "            class  xmin  ymin  xmax  ymax  \n",
            "0  scratch defect   488   104   493   172  \n",
            "1  scratch defect   164     1   169    84  \n",
            "2  scratch defect   212   130   221   184  \n",
            "3  scratch defect    93   113   107   162  \n",
            "4  scratch defect   230     0   247    20  \n"
          ]
        }
      ]
    },
    {
      "cell_type": "code",
      "source": [
        "# Group by filename and take the first class label (assumes all boxes in one image belong to same class)\n",
        "df_class = df_train.groupby('filename')['class'].first().reset_index()\n",
        "\n",
        "\n",
        "#df_class['class'] = df_class['class'].str.replace(\" defect\", \"\", regex=False)\n",
        "print(df_class['class'].value_counts())  # See class distribution\n",
        "\n",
        "# Save for later use\n",
        "df_class.to_csv(\"/content/train_labels.csv\", index=False)"
      ],
      "metadata": {
        "colab": {
          "base_uri": "https://localhost:8080/"
        },
        "id": "zOK7kjic7CEj",
        "outputId": "b715dc99-e8b7-449c-95fd-71baeb8c108f"
      },
      "execution_count": null,
      "outputs": [
        {
          "output_type": "stream",
          "name": "stdout",
          "text": [
            "class\n",
            "scratch defect           8070\n",
            "pitted surface defect    1404\n",
            "patch defect              826\n",
            "crazing defect            330\n",
            "Name: count, dtype: int64\n"
          ]
        }
      ]
    },
    {
      "cell_type": "code",
      "source": [
        "#visualization of class distribution\n",
        "import matplotlib.pyplot as plt\n",
        "\n",
        "df_class['class'].value_counts().plot(kind='bar', color='green')\n",
        "plt.title(\"Class Distribution in Training Set\")\n",
        "plt.xlabel(\"Defect Class\")\n",
        "plt.ylabel(\"Count\")\n",
        "plt.xticks(rotation=45)\n",
        "plt.grid(axis='y')\n",
        "#plt.grid(axis='x')\n",
        "plt.show()"
      ],
      "metadata": {
        "colab": {
          "base_uri": "https://localhost:8080/",
          "height": 570
        },
        "id": "bwrBiltj7Ed1",
        "outputId": "a372e41d-f335-45db-b0f4-9cd81c240f5e"
      },
      "execution_count": null,
      "outputs": [
        {
          "output_type": "display_data",
          "data": {
            "text/plain": [
              "<Figure size 640x480 with 1 Axes>"
            ],
            "image/png": "[encoded data removed]"
          },
          "metadata": {}
        }
      ]
    },
    {
      "cell_type": "code",
      "source": [
        "#image preprocessing using imagedatagenerator class in keras\n",
        "IMG_SIZE = (128,128)\n",
        "BATCH_SIZE = 64\n",
        "\n",
        "from tensorflow.keras.preprocessing.image import ImageDataGenerator\n",
        "\n",
        "# Training data generator with augmentation\n",
        "train_datagen = ImageDataGenerator(\n",
        "    rescale=1./255,\n",
        "    horizontal_flip=True,\n",
        "    rotation_range=20,\n",
        "    zoom_range=0.2,\n",
        "    width_shift_range=0.1,\n",
        "    height_shift_range=0.1\n",
        ")\n",
        "\n",
        "# Validation data generator (no augmentation)\n",
        "val_datagen = ImageDataGenerator(rescale=1./255)\n",
        "\n",
        "# Test data generator(no augmentation)\n",
        "test_datagen = ImageDataGenerator(rescale=1./255)\n"
      ],
      "metadata": {
        "id": "HydrrFIf7HpR"
      },
      "execution_count": null,
      "outputs": []
    },
    {
      "cell_type": "code",
      "source": [
        "#creation of train,valid and test dataframe\n",
        "import pandas as pd\n",
        "import os\n",
        "\n",
        "# Define base directories\n",
        "base_dir = \"/content/dataset\"\n",
        "train_dir = os.path.join(base_dir, \"train\")\n",
        "val_dir = os.path.join(base_dir, \"valid\")\n",
        "test_dir = os.path.join(base_dir, \"test\")\n",
        "\n",
        "# Load CSV files\n",
        "train_csv = pd.read_csv(os.path.join(train_dir, \"_annotations.csv\"))\n",
        "val_csv = pd.read_csv(os.path.join(val_dir, \"_annotations.csv\"))\n",
        "test_csv = pd.read_csv(os.path.join(test_dir, \"_annotations.csv\"))\n"
      ],
      "metadata": {
        "id": "c5-txrhrw059"
      },
      "execution_count": null,
      "outputs": []
    },
    {
      "cell_type": "code",
      "source": [
        "# Drop duplicate labels per image\n",
        "train_df = train_csv[['filename', 'class']].drop_duplicates()\n",
        "val_df = val_csv[['filename', 'class']].drop_duplicates()\n",
        "test_df = test_csv[['filename', 'class']].drop_duplicates()\n"
      ],
      "metadata": {
        "id": "D927al0axAwE"
      },
      "execution_count": null,
      "outputs": []
    },
    {
      "cell_type": "code",
      "source": [
        "# Add image paths\n",
        "train_df['filepath'] = train_df['filename'].apply(lambda x: os.path.join(train_dir, x))\n",
        "val_df['filepath'] = val_df['filename'].apply(lambda x: os.path.join(val_dir, x))\n",
        "test_df['filepath'] = test_df['filename'].apply(lambda x: os.path.join(test_dir, x))\n"
      ],
      "metadata": {
        "id": "__mW2Pr_xDz7"
      },
      "execution_count": null,
      "outputs": []
    },
    {
      "cell_type": "code",
      "source": [
        "print(train_df.head())\n"
      ],
      "metadata": {
        "colab": {
          "base_uri": "https://localhost:8080/"
        },
        "id": "MfUuyo8nxHSV",
        "outputId": "fef98b84-a515-4a16-dea3-1bbbf1d62f4a"
      },
      "execution_count": null,
      "outputs": [
        {
          "output_type": "stream",
          "name": "stdout",
          "text": [
            "                                             filename                  class  \\\n",
            "0   6212e44a0_jpg.rf.eca9d0d2821273911813398f6cf9b...         scratch defect   \n",
            "2   43b6618bf_jpg.rf.ec7a7bcb21bcc7881051906d564ba...         scratch defect   \n",
            "5   7a14789e6_jpg.rf.ecc6e737fd543a36d4ea7ed7e85fe...         scratch defect   \n",
            "7   ed861754e_jpg.rf.ecbd85f351394ff08d10511701ed4...         scratch defect   \n",
            "13  cefbcc992_jpg.rf.ec92b4ebccf979c2103dd2e918613...  pitted surface defect   \n",
            "\n",
            "                                             filepath  \n",
            "0   /content/dataset/train/6212e44a0_jpg.rf.eca9d0...  \n",
            "2   /content/dataset/train/43b6618bf_jpg.rf.ec7a7b...  \n",
            "5   /content/dataset/train/7a14789e6_jpg.rf.ecc6e7...  \n",
            "7   /content/dataset/train/ed861754e_jpg.rf.ecbd85...  \n",
            "13  /content/dataset/train/cefbcc992_jpg.rf.ec92b4...  \n"
          ]
        }
      ]
    },
    {
      "cell_type": "code",
      "source": [
        "train_gen = train_datagen.flow_from_dataframe(\n",
        "    dataframe=train_df,\n",
        "    x_col='filepath',\n",
        "    y_col='class',\n",
        "    target_size=IMG_SIZE,\n",
        "    batch_size=BATCH_SIZE,\n",
        "    class_mode='categorical'\n",
        ")\n",
        "\n",
        "val_gen = val_datagen.flow_from_dataframe(\n",
        "    dataframe=val_df,\n",
        "    x_col='filepath',\n",
        "    y_col='class',\n",
        "    target_size=IMG_SIZE,\n",
        "    batch_size=BATCH_SIZE,\n",
        "    class_mode='categorical',\n",
        "    shuffle=False\n",
        ")\n",
        "\n",
        "test_gen = test_datagen.flow_from_dataframe(\n",
        "    dataframe=test_df,\n",
        "    x_col='filepath',\n",
        "    y_col='class',\n",
        "    target_size=IMG_SIZE,\n",
        "    batch_size=BATCH_SIZE,\n",
        "    class_mode='categorical',\n",
        "    shuffle=False\n",
        ")\n"
      ],
      "metadata": {
        "colab": {
          "base_uri": "https://localhost:8080/"
        },
        "id": "bt0HooCiwc-m",
        "outputId": "fe570ccd-0574-4262-fbbd-f7f8cb261ce7"
      },
      "execution_count": null,
      "outputs": [
        {
          "output_type": "stream",
          "name": "stdout",
          "text": [
            "Found 11304 validated image filenames belonging to 4 classes.\n",
            "Found 710 validated image filenames belonging to 4 classes.\n",
            "Found 707 validated image filenames belonging to 4 classes.\n"
          ]
        }
      ]
    },
    {
      "cell_type": "code",
      "source": [
        "import seaborn as sns\n",
        "import matplotlib.pyplot as plt\n",
        "\n",
        "plt.figure(figsize=(8, 5))\n",
        "sns.countplot(data=train_df, x='class', order=train_df['class'].value_counts().index)\n",
        "plt.title(\"Training Set Class Distribution\")\n",
        "plt.xticks(rotation=45)\n",
        "plt.tight_layout()\n",
        "plt.show()\n",
        "class_names = list(train_gen.class_indices.keys())\n",
        "\n",
        "# Display the count of each class separately\n",
        "class_counts = train_df['class'].value_counts()\n",
        "print(\"Class Counts:\")\n",
        "print(class_counts)\n"
      ],
      "metadata": {
        "colab": {
          "base_uri": "https://localhost:8080/",
          "height": 628
        },
        "id": "5S0g12zFxONQ",
        "outputId": "6c34a0f6-cb1f-48f3-9948-02d957d7c07f"
      },
      "execution_count": null,
      "outputs": [
        {
          "output_type": "display_data",
          "data": {
            "text/plain": [
              "<Figure size 800x500 with 1 Axes>"
            ],
            "image/png": "[encoded data removed]"
          },
          "metadata": {}
        },
        {
          "output_type": "stream",
          "name": "stdout",
          "text": [
            "Class Counts:\n",
            "class\n",
            "scratch defect           8226\n",
            "pitted surface defect    1404\n",
            "patch defect             1282\n",
            "crazing defect            392\n",
            "Name: count, dtype: int64\n"
          ]
        }
      ]
    },
    {
      "cell_type": "code",
      "source": [
        "from tensorflow.keras import layers, models\n",
        "\n",
        "# Define CNN model\n",
        "def create_cnn_model(input_shape=(128, 128, 3)):\n",
        "    model = models.Sequential([\n",
        "        layers.Conv2D(32, (3, 3), activation='relu', input_shape=input_shape),\n",
        "        layers.MaxPooling2D((2, 2)),\n",
        "        layers.Conv2D(64, (3, 3), activation='relu'),\n",
        "        layers.MaxPooling2D((2, 2)),\n",
        "        layers.Conv2D(64, (3, 3), activation='relu'),\n",
        "        layers.MaxPooling2D((2, 2)),\n",
        "        layers.Flatten(),\n",
        "        layers.Dense(128, activation='relu'),\n",
        "        layers.Dropout(0.5),\n",
        "        layers.Dense(4, activation='softmax')  # 4 classes\n",
        "    ])\n",
        "\n",
        "    model.compile(optimizer='adam',\n",
        "                  loss='categorical_crossentropy',\n",
        "                  metrics=['accuracy'])\n",
        "    return model\n",
        "\n",
        "\n",
        "\n",
        "\n"
      ],
      "metadata": {
        "id": "pGQ5J5EoyTwa"
      },
      "execution_count": null,
      "outputs": []
    },
    {
      "cell_type": "markdown",
      "source": [],
      "metadata": {
        "id": "G_5F5UHkpKfY"
      }
    },
    {
      "cell_type": "code",
      "source": [
        "from sklearn.utils import class_weight\n",
        "import numpy as np\n",
        "\n",
        "# Compute class weights\n",
        "class_weights = class_weight.compute_class_weight(\n",
        "    class_weight='balanced',\n",
        "    classes=np.unique(train_df['class']),\n",
        "    y=train_df['class']\n",
        ")\n",
        "\n",
        "# Map to index format required by model.fit()\n",
        "class_indices = train_gen.class_indices\n",
        "weights_dict = {class_indices[cls]: w for cls, w in zip(np.unique(train_df['class']), class_weights)}\n",
        "\n",
        "#print(\"Class weights for training:\", weights_dict)\n",
        "print(\"Class Indices and Weights:\")\n",
        "for cls, index in class_indices.items():\n",
        "    weight = weights_dict[index]\n",
        "    print(f\"Class: {cls}, Index: {index}, Weight: {weight}\")\n"
      ],
      "metadata": {
        "colab": {
          "base_uri": "https://localhost:8080/"
        },
        "id": "gC4bU_EYc6r0",
        "outputId": "30763729-dc99-4100-924c-fbf772836d7d"
      },
      "execution_count": null,
      "outputs": [
        {
          "output_type": "stream",
          "name": "stdout",
          "text": [
            "Class Indices and Weights:\n",
            "Class: crazing defect, Index: 0, Weight: 7.209183673469388\n",
            "Class: patch defect, Index: 1, Weight: 2.204368174726989\n",
            "Class: pitted surface defect, Index: 2, Weight: 2.0128205128205128\n",
            "Class: scratch defect, Index: 3, Weight: 0.3435448577680525\n"
          ]
        }
      ]
    },
    {
      "cell_type": "code",
      "source": [
        "BATCH_SIZE = 64\n",
        "\n",
        "cnn_model = create_cnn_model()\n",
        "\n",
        "history = cnn_model.fit(\n",
        "    train_gen,\n",
        "    steps_per_epoch=train_gen.samples // BATCH_SIZE,  # Ensure correct steps per epoch\n",
        "    epochs=20,\n",
        "    validation_data=val_gen,\n",
        "    validation_steps=val_gen.samples // BATCH_SIZE,  # Ensure correct validation steps\n",
        "    class_weight=weights_dict\n",
        ")"
      ],
      "metadata": {
        "colab": {
          "base_uri": "https://localhost:8080/"
        },
        "id": "z--JpPoadK35",
        "outputId": "706a3929-fc26-4563-eeb4-89b9a06482b3"
      },
      "execution_count": null,
      "outputs": [
        {
          "output_type": "stream",
          "name": "stderr",
          "text": [
            "/usr/local/lib/python3.11/dist-packages/keras/src/layers/convolutional/base_conv.py:107: UserWarning: Do not pass an `input_shape`/`input_dim` argument to a layer. When using Sequential models, prefer using an `Input(shape)` object as the first layer in the model instead.\n",
            "  super().__init__(activity_regularizer=activity_regularizer, **kwargs)\n"
          ]
        },
        {
          "output_type": "stream",
          "name": "stdout",
          "text": [
            "Epoch 1/20\n",
            "\u001b[1m176/176\u001b[0m \u001b[32m━━━━━━━━━━━━━━━━━━━━\u001b[0m\u001b[37m\u001b[0m \u001b[1m215s\u001b[0m 1s/step - accuracy: 0.2628 - loss: 1.3441 - val_accuracy: 0.2330 - val_loss: 1.2200\n",
            "Epoch 2/20\n",
            "\u001b[1m  1/176\u001b[0m \u001b[37m━━━━━━━━━━━━━━━━━━━━\u001b[0m \u001b[1m4:23\u001b[0m 2s/step - accuracy: 0.3750 - loss: 1.1246"
          ]
        },
        {
          "output_type": "stream",
          "name": "stderr",
          "text": [
            "/usr/local/lib/python3.11/dist-packages/keras/src/trainers/epoch_iterator.py:107: UserWarning: Your input ran out of data; interrupting training. Make sure that your dataset or generator can generate at least `steps_per_epoch * epochs` batches. You may need to use the `.repeat()` function when building your dataset.\n",
            "  self._interrupted_warning()\n"
          ]
        },
        {
          "output_type": "stream",
          "name": "stdout",
          "text": [
            "\b\b\b\b\b\b\b\b\b\b\b\b\b\b\b\b\b\b\b\b\b\b\b\b\b\b\b\b\b\b\b\b\b\b\b\b\b\b\b\b\b\b\b\b\b\b\b\b\b\b\b\b\b\b\b\b\b\b\b\b\b\b\b\b\b\b\b\b\b\b\b\b\b\b\b\r\u001b[1m176/176\u001b[0m \u001b[32m━━━━━━━━━━━━━━━━━━━━\u001b[0m\u001b[37m\u001b[0m \u001b[1m5s\u001b[0m 22ms/step - accuracy: 0.3750 - loss: 1.1246 - val_accuracy: 0.2344 - val_loss: 1.2072\n",
            "Epoch 3/20\n",
            "\u001b[1m176/176\u001b[0m \u001b[32m━━━━━━━━━━━━━━━━━━━━\u001b[0m\u001b[37m\u001b[0m \u001b[1m252s\u001b[0m 1s/step - accuracy: 0.2830 - loss: 1.1857 - val_accuracy: 0.2045 - val_loss: 1.3008\n",
            "Epoch 4/20\n",
            "\u001b[1m  1/176\u001b[0m \u001b[37m━━━━━━━━━━━━━━━━━━━━\u001b[0m \u001b[1m2:45\u001b[0m 947ms/step - accuracy: 0.1406 - loss: 0.9938"
          ]
        },
        {
          "output_type": "stream",
          "name": "stderr",
          "text": [
            "/usr/local/lib/python3.11/dist-packages/keras/src/trainers/epoch_iterator.py:107: UserWarning: Your input ran out of data; interrupting training. Make sure that your dataset or generator can generate at least `steps_per_epoch * epochs` batches. You may need to use the `.repeat()` function when building your dataset.\n",
            "  self._interrupted_warning()\n"
          ]
        },
        {
          "output_type": "stream",
          "name": "stdout",
          "text": [
            "\b\b\b\b\b\b\b\b\b\b\b\b\b\b\b\b\b\b\b\b\b\b\b\b\b\b\b\b\b\b\b\b\b\b\b\b\b\b\b\b\b\b\b\b\b\b\b\b\b\b\b\b\b\b\b\b\b\b\b\b\b\b\b\b\b\b\b\b\b\b\b\b\b\b\b\b\b\b\r\u001b[1m176/176\u001b[0m \u001b[32m━━━━━━━━━━━━━━━━━━━━\u001b[0m\u001b[37m\u001b[0m \u001b[1m9s\u001b[0m 48ms/step - accuracy: 0.1406 - loss: 0.9938 - val_accuracy: 0.2045 - val_loss: 1.3124\n",
            "Epoch 5/20\n",
            "\u001b[1m 77/176\u001b[0m \u001b[32m━━━━━━━━\u001b[0m\u001b[37m━━━━━━━━━━━━\u001b[0m \u001b[1m1:55\u001b[0m 1s/step - accuracy: 0.2520 - loss: 1.1796"
          ]
        },
        {
          "output_type": "stream",
          "name": "stderr",
          "text": [
            "/usr/local/lib/python3.11/dist-packages/keras/src/legacy/preprocessing/image.py:1880: DeprecationWarning: Please import `affine_transform` from the `scipy.ndimage` namespace; the `scipy.ndimage.interpolation` namespace is deprecated and will be removed in SciPy 2.0.0.\n",
            "  scipy.ndimage.interpolation.affine_transform(\n",
            "/usr/local/lib/python3.11/dist-packages/keras/src/legacy/preprocessing/image.py:1880: DeprecationWarning: Please import `affine_transform` from the `scipy.ndimage` namespace; the `scipy.ndimage.interpolation` namespace is deprecated and will be removed in SciPy 2.0.0.\n",
            "  scipy.ndimage.interpolation.affine_transform(\n",
            "/usr/local/lib/python3.11/dist-packages/keras/src/legacy/preprocessing/image.py:1880: DeprecationWarning: Please import `affine_transform` from the `scipy.ndimage` namespace; the `scipy.ndimage.interpolation` namespace is deprecated and will be removed in SciPy 2.0.0.\n",
            "  scipy.ndimage.interpolation.affine_transform(\n"
          ]
        },
        {
          "output_type": "stream",
          "name": "stdout",
          "text": [
            "\u001b[1m176/176\u001b[0m \u001b[32m━━━━━━━━━━━━━━━━━━━━\u001b[0m\u001b[37m\u001b[0m \u001b[1m262s\u001b[0m 1s/step - accuracy: 0.2632 - loss: 1.1695 - val_accuracy: 0.2003 - val_loss: 1.2574\n",
            "Epoch 6/20\n",
            "\u001b[1m  1/176\u001b[0m \u001b[37m━━━━━━━━━━━━━━━━━━━━\u001b[0m \u001b[1m2:44\u001b[0m 938ms/step - accuracy: 0.3750 - loss: 1.3672"
          ]
        },
        {
          "output_type": "stream",
          "name": "stderr",
          "text": [
            "/usr/local/lib/python3.11/dist-packages/keras/src/trainers/epoch_iterator.py:107: UserWarning: Your input ran out of data; interrupting training. Make sure that your dataset or generator can generate at least `steps_per_epoch * epochs` batches. You may need to use the `.repeat()` function when building your dataset.\n",
            "  self._interrupted_warning()\n"
          ]
        },
        {
          "output_type": "stream",
          "name": "stdout",
          "text": [
            "\b\b\b\b\b\b\b\b\b\b\b\b\b\b\b\b\b\b\b\b\b\b\b\b\b\b\b\b\b\b\b\b\b\b\b\b\b\b\b\b\b\b\b\b\b\b\b\b\b\b\b\b\b\b\b\b\b\b\b\b\b\b\b\b\b\b\b\b\b\b\b\b\b\b\b\b\b\b\r\u001b[1m176/176\u001b[0m \u001b[32m━━━━━━━━━━━━━━━━━━━━\u001b[0m\u001b[37m\u001b[0m \u001b[1m5s\u001b[0m 21ms/step - accuracy: 0.3750 - loss: 1.3672 - val_accuracy: 0.2017 - val_loss: 1.2692\n",
            "Epoch 7/20\n",
            "\u001b[1m165/176\u001b[0m \u001b[32m━━━━━━━━━━━━━━━━━━\u001b[0m\u001b[37m━━\u001b[0m \u001b[1m12s\u001b[0m 1s/step - accuracy: 0.2379 - loss: 1.1757"
          ]
        },
        {
          "output_type": "stream",
          "name": "stderr",
          "text": [
            "/usr/local/lib/python3.11/dist-packages/keras/src/legacy/preprocessing/image.py:1880: DeprecationWarning: Please import `affine_transform` from the `scipy.ndimage` namespace; the `scipy.ndimage.interpolation` namespace is deprecated and will be removed in SciPy 2.0.0.\n",
            "  scipy.ndimage.interpolation.affine_transform(\n",
            "/usr/local/lib/python3.11/dist-packages/keras/src/legacy/preprocessing/image.py:1880: DeprecationWarning: Please import `affine_transform` from the `scipy.ndimage` namespace; the `scipy.ndimage.interpolation` namespace is deprecated and will be removed in SciPy 2.0.0.\n",
            "  scipy.ndimage.interpolation.affine_transform(\n",
            "/usr/local/lib/python3.11/dist-packages/keras/src/legacy/preprocessing/image.py:1880: DeprecationWarning: Please import `affine_transform` from the `scipy.ndimage` namespace; the `scipy.ndimage.interpolation` namespace is deprecated and will be removed in SciPy 2.0.0.\n",
            "  scipy.ndimage.interpolation.affine_transform(\n"
          ]
        },
        {
          "output_type": "stream",
          "name": "stdout",
          "text": [
            "\u001b[1m176/176\u001b[0m \u001b[32m━━━━━━━━━━━━━━━━━━━━\u001b[0m\u001b[37m\u001b[0m \u001b[1m211s\u001b[0m 1s/step - accuracy: 0.2388 - loss: 1.1730 - val_accuracy: 0.2287 - val_loss: 1.2321\n",
            "Epoch 8/20\n",
            "\u001b[1m  1/176\u001b[0m \u001b[37m━━━━━━━━━━━━━━━━━━━━\u001b[0m \u001b[1m2:46\u001b[0m 953ms/step - accuracy: 0.2188 - loss: 0.9965"
          ]
        },
        {
          "output_type": "stream",
          "name": "stderr",
          "text": [
            "/usr/local/lib/python3.11/dist-packages/keras/src/trainers/epoch_iterator.py:107: UserWarning: Your input ran out of data; interrupting training. Make sure that your dataset or generator can generate at least `steps_per_epoch * epochs` batches. You may need to use the `.repeat()` function when building your dataset.\n",
            "  self._interrupted_warning()\n"
          ]
        },
        {
          "output_type": "stream",
          "name": "stdout",
          "text": [
            "\b\b\b\b\b\b\b\b\b\b\b\b\b\b\b\b\b\b\b\b\b\b\b\b\b\b\b\b\b\b\b\b\b\b\b\b\b\b\b\b\b\b\b\b\b\b\b\b\b\b\b\b\b\b\b\b\b\b\b\b\b\b\b\b\b\b\b\b\b\b\b\b\b\b\b\b\b\b\r\u001b[1m176/176\u001b[0m \u001b[32m━━━━━━━━━━━━━━━━━━━━\u001b[0m\u001b[37m\u001b[0m \u001b[1m6s\u001b[0m 26ms/step - accuracy: 0.2188 - loss: 0.9965 - val_accuracy: 0.2315 - val_loss: 1.2228\n",
            "Epoch 9/20\n",
            "\u001b[1m176/176\u001b[0m \u001b[32m━━━━━━━━━━━━━━━━━━━━\u001b[0m\u001b[37m\u001b[0m \u001b[1m261s\u001b[0m 1s/step - accuracy: 0.2508 - loss: 1.1297 - val_accuracy: 0.2756 - val_loss: 1.1109\n",
            "Epoch 10/20\n",
            "\u001b[1m  1/176\u001b[0m \u001b[37m━━━━━━━━━━━━━━━━━━━━\u001b[0m \u001b[1m3:57\u001b[0m 1s/step - accuracy: 0.2344 - loss: 0.9892"
          ]
        },
        {
          "output_type": "stream",
          "name": "stderr",
          "text": [
            "/usr/local/lib/python3.11/dist-packages/keras/src/trainers/epoch_iterator.py:107: UserWarning: Your input ran out of data; interrupting training. Make sure that your dataset or generator can generate at least `steps_per_epoch * epochs` batches. You may need to use the `.repeat()` function when building your dataset.\n",
            "  self._interrupted_warning()\n"
          ]
        },
        {
          "output_type": "stream",
          "name": "stdout",
          "text": [
            "\b\b\b\b\b\b\b\b\b\b\b\b\b\b\b\b\b\b\b\b\b\b\b\b\b\b\b\b\b\b\b\b\b\b\b\b\b\b\b\b\b\b\b\b\b\b\b\b\b\b\b\b\b\b\b\b\b\b\b\b\b\b\b\b\b\b\b\b\b\b\b\b\b\b\b\r\u001b[1m176/176\u001b[0m \u001b[32m━━━━━━━━━━━━━━━━━━━━\u001b[0m\u001b[37m\u001b[0m \u001b[1m5s\u001b[0m 23ms/step - accuracy: 0.2344 - loss: 0.9892 - val_accuracy: 0.2756 - val_loss: 1.1078\n",
            "Epoch 11/20\n",
            "\u001b[1m176/176\u001b[0m \u001b[32m━━━━━━━━━━━━━━━━━━━━\u001b[0m\u001b[37m\u001b[0m \u001b[1m262s\u001b[0m 1s/step - accuracy: 0.2507 - loss: 1.1025 - val_accuracy: 0.5881 - val_loss: 1.0984\n",
            "Epoch 12/20\n",
            "\u001b[1m  1/176\u001b[0m \u001b[37m━━━━━━━━━━━━━━━━━━━━\u001b[0m \u001b[1m2:45\u001b[0m 944ms/step - accuracy: 0.3750 - loss: 1.4038"
          ]
        },
        {
          "output_type": "stream",
          "name": "stderr",
          "text": [
            "/usr/local/lib/python3.11/dist-packages/keras/src/trainers/epoch_iterator.py:107: UserWarning: Your input ran out of data; interrupting training. Make sure that your dataset or generator can generate at least `steps_per_epoch * epochs` batches. You may need to use the `.repeat()` function when building your dataset.\n",
            "  self._interrupted_warning()\n"
          ]
        },
        {
          "output_type": "stream",
          "name": "stdout",
          "text": [
            "\b\b\b\b\b\b\b\b\b\b\b\b\b\b\b\b\b\b\b\b\b\b\b\b\b\b\b\b\b\b\b\b\b\b\b\b\b\b\b\b\b\b\b\b\b\b\b\b\b\b\b\b\b\b\b\b\b\b\b\b\b\b\b\b\b\b\b\b\b\b\b\b\b\b\b\b\b\b\r\u001b[1m176/176\u001b[0m \u001b[32m━━━━━━━━━━━━━━━━━━━━\u001b[0m\u001b[37m\u001b[0m \u001b[1m5s\u001b[0m 26ms/step - accuracy: 0.3750 - loss: 1.4038 - val_accuracy: 0.5795 - val_loss: 1.1170\n",
            "Epoch 13/20\n",
            "\u001b[1m134/176\u001b[0m \u001b[32m━━━━━━━━━━━━━━━\u001b[0m\u001b[37m━━━━━\u001b[0m \u001b[1m49s\u001b[0m 1s/step - accuracy: 0.3054 - loss: 1.0968"
          ]
        },
        {
          "output_type": "stream",
          "name": "stderr",
          "text": [
            "/usr/local/lib/python3.11/dist-packages/keras/src/legacy/preprocessing/image.py:1880: DeprecationWarning: Please import `affine_transform` from the `scipy.ndimage` namespace; the `scipy.ndimage.interpolation` namespace is deprecated and will be removed in SciPy 2.0.0.\n",
            "  scipy.ndimage.interpolation.affine_transform(\n",
            "/usr/local/lib/python3.11/dist-packages/keras/src/legacy/preprocessing/image.py:1880: DeprecationWarning: Please import `affine_transform` from the `scipy.ndimage` namespace; the `scipy.ndimage.interpolation` namespace is deprecated and will be removed in SciPy 2.0.0.\n",
            "  scipy.ndimage.interpolation.affine_transform(\n",
            "/usr/local/lib/python3.11/dist-packages/keras/src/legacy/preprocessing/image.py:1880: DeprecationWarning: Please import `affine_transform` from the `scipy.ndimage` namespace; the `scipy.ndimage.interpolation` namespace is deprecated and will be removed in SciPy 2.0.0.\n",
            "  scipy.ndimage.interpolation.affine_transform(\n",
            "/usr/local/lib/python3.11/dist-packages/keras/src/legacy/preprocessing/image.py:1880: DeprecationWarning: Please import `affine_transform` from the `scipy.ndimage` namespace; the `scipy.ndimage.interpolation` namespace is deprecated and will be removed in SciPy 2.0.0.\n",
            "  scipy.ndimage.interpolation.affine_transform(\n"
          ]
        },
        {
          "output_type": "stream",
          "name": "stdout",
          "text": [
            "\u001b[1m176/176\u001b[0m \u001b[32m━━━━━━━━━━━━━━━━━━━━\u001b[0m\u001b[37m\u001b[0m \u001b[1m262s\u001b[0m 1s/step - accuracy: 0.3020 - loss: 1.0945 - val_accuracy: 0.4247 - val_loss: 1.0527\n",
            "Epoch 14/20\n",
            "\u001b[1m  1/176\u001b[0m \u001b[37m━━━━━━━━━━━━━━━━━━━━\u001b[0m \u001b[1m2:43\u001b[0m 935ms/step - accuracy: 0.4844 - loss: 1.0205"
          ]
        },
        {
          "output_type": "stream",
          "name": "stderr",
          "text": [
            "/usr/local/lib/python3.11/dist-packages/keras/src/trainers/epoch_iterator.py:107: UserWarning: Your input ran out of data; interrupting training. Make sure that your dataset or generator can generate at least `steps_per_epoch * epochs` batches. You may need to use the `.repeat()` function when building your dataset.\n",
            "  self._interrupted_warning()\n"
          ]
        },
        {
          "output_type": "stream",
          "name": "stdout",
          "text": [
            "\b\b\b\b\b\b\b\b\b\b\b\b\b\b\b\b\b\b\b\b\b\b\b\b\b\b\b\b\b\b\b\b\b\b\b\b\b\b\b\b\b\b\b\b\b\b\b\b\b\b\b\b\b\b\b\b\b\b\b\b\b\b\b\b\b\b\b\b\b\b\b\b\b\b\b\b\b\b\r\u001b[1m176/176\u001b[0m \u001b[32m━━━━━━━━━━━━━━━━━━━━\u001b[0m\u001b[37m\u001b[0m \u001b[1m6s\u001b[0m 26ms/step - accuracy: 0.4844 - loss: 1.0205 - val_accuracy: 0.4062 - val_loss: 1.0550\n",
            "Epoch 15/20\n",
            "\u001b[1m 32/176\u001b[0m \u001b[32m━━━\u001b[0m\u001b[37m━━━━━━━━━━━━━━━━━\u001b[0m \u001b[1m2:48\u001b[0m 1s/step - accuracy: 0.3456 - loss: 0.9861"
          ]
        },
        {
          "output_type": "stream",
          "name": "stderr",
          "text": [
            "/usr/local/lib/python3.11/dist-packages/keras/src/legacy/preprocessing/image.py:1880: DeprecationWarning: Please import `affine_transform` from the `scipy.ndimage` namespace; the `scipy.ndimage.interpolation` namespace is deprecated and will be removed in SciPy 2.0.0.\n",
            "  scipy.ndimage.interpolation.affine_transform(\n",
            "/usr/local/lib/python3.11/dist-packages/keras/src/legacy/preprocessing/image.py:1880: DeprecationWarning: Please import `affine_transform` from the `scipy.ndimage` namespace; the `scipy.ndimage.interpolation` namespace is deprecated and will be removed in SciPy 2.0.0.\n",
            "  scipy.ndimage.interpolation.affine_transform(\n",
            "/usr/local/lib/python3.11/dist-packages/keras/src/legacy/preprocessing/image.py:1880: DeprecationWarning: Please import `affine_transform` from the `scipy.ndimage` namespace; the `scipy.ndimage.interpolation` namespace is deprecated and will be removed in SciPy 2.0.0.\n",
            "  scipy.ndimage.interpolation.affine_transform(\n",
            "/usr/local/lib/python3.11/dist-packages/keras/src/legacy/preprocessing/image.py:1880: DeprecationWarning: Please import `affine_transform` from the `scipy.ndimage` namespace; the `scipy.ndimage.interpolation` namespace is deprecated and will be removed in SciPy 2.0.0.\n",
            "  scipy.ndimage.interpolation.affine_transform(\n",
            "/usr/local/lib/python3.11/dist-packages/keras/src/legacy/preprocessing/image.py:1880: DeprecationWarning: Please import `affine_transform` from the `scipy.ndimage` namespace; the `scipy.ndimage.interpolation` namespace is deprecated and will be removed in SciPy 2.0.0.\n",
            "  scipy.ndimage.interpolation.affine_transform(\n",
            "/usr/local/lib/python3.11/dist-packages/keras/src/legacy/preprocessing/image.py:1880: DeprecationWarning: Please import `affine_transform` from the `scipy.ndimage` namespace; the `scipy.ndimage.interpolation` namespace is deprecated and will be removed in SciPy 2.0.0.\n",
            "  scipy.ndimage.interpolation.affine_transform(\n"
          ]
        },
        {
          "output_type": "stream",
          "name": "stdout",
          "text": [
            "\u001b[1m176/176\u001b[0m \u001b[32m━━━━━━━━━━━━━━━━━━━━\u001b[0m\u001b[37m\u001b[0m \u001b[1m261s\u001b[0m 1s/step - accuracy: 0.3226 - loss: 1.0353 - val_accuracy: 0.3750 - val_loss: 1.0461\n",
            "Epoch 16/20\n",
            "\u001b[1m  1/176\u001b[0m \u001b[37m━━━━━━━━━━━━━━━━━━━━\u001b[0m \u001b[1m4:02\u001b[0m 1s/step - accuracy: 0.3750 - loss: 1.1269"
          ]
        },
        {
          "output_type": "stream",
          "name": "stderr",
          "text": [
            "/usr/local/lib/python3.11/dist-packages/keras/src/trainers/epoch_iterator.py:107: UserWarning: Your input ran out of data; interrupting training. Make sure that your dataset or generator can generate at least `steps_per_epoch * epochs` batches. You may need to use the `.repeat()` function when building your dataset.\n",
            "  self._interrupted_warning()\n"
          ]
        },
        {
          "output_type": "stream",
          "name": "stdout",
          "text": [
            "\b\b\b\b\b\b\b\b\b\b\b\b\b\b\b\b\b\b\b\b\b\b\b\b\b\b\b\b\b\b\b\b\b\b\b\b\b\b\b\b\b\b\b\b\b\b\b\b\b\b\b\b\b\b\b\b\b\b\b\b\b\b\b\b\b\b\b\b\b\b\b\b\b\b\b\r\u001b[1m176/176\u001b[0m \u001b[32m━━━━━━━━━━━━━━━━━━━━\u001b[0m\u001b[37m\u001b[0m \u001b[1m5s\u001b[0m 23ms/step - accuracy: 0.3750 - loss: 1.1269 - val_accuracy: 0.3920 - val_loss: 1.0350\n",
            "Epoch 17/20\n",
            "\u001b[1m176/176\u001b[0m \u001b[32m━━━━━━━━━━━━━━━━━━━━\u001b[0m\u001b[37m\u001b[0m \u001b[1m263s\u001b[0m 1s/step - accuracy: 0.3452 - loss: 1.0075 - val_accuracy: 0.4418 - val_loss: 1.1168\n",
            "Epoch 18/20\n",
            "\u001b[1m  1/176\u001b[0m \u001b[37m━━━━━━━━━━━━━━━━━━━━\u001b[0m \u001b[1m3:22\u001b[0m 1s/step - accuracy: 0.4219 - loss: 0.9359"
          ]
        },
        {
          "output_type": "stream",
          "name": "stderr",
          "text": [
            "/usr/local/lib/python3.11/dist-packages/keras/src/trainers/epoch_iterator.py:107: UserWarning: Your input ran out of data; interrupting training. Make sure that your dataset or generator can generate at least `steps_per_epoch * epochs` batches. You may need to use the `.repeat()` function when building your dataset.\n",
            "  self._interrupted_warning()\n"
          ]
        },
        {
          "output_type": "stream",
          "name": "stdout",
          "text": [
            "\b\b\b\b\b\b\b\b\b\b\b\b\b\b\b\b\b\b\b\b\b\b\b\b\b\b\b\b\b\b\b\b\b\b\b\b\b\b\b\b\b\b\b\b\b\b\b\b\b\b\b\b\b\b\b\b\b\b\b\b\b\b\b\b\b\b\b\b\b\b\b\b\b\b\b\r\u001b[1m176/176\u001b[0m \u001b[32m━━━━━━━━━━━━━━━━━━━━\u001b[0m\u001b[37m\u001b[0m \u001b[1m10s\u001b[0m 49ms/step - accuracy: 0.4219 - loss: 0.9359 - val_accuracy: 0.4361 - val_loss: 1.1238\n",
            "Epoch 19/20\n",
            "\u001b[1m176/176\u001b[0m \u001b[32m━━━━━━━━━━━━━━━━━━━━\u001b[0m\u001b[37m\u001b[0m \u001b[1m262s\u001b[0m 1s/step - accuracy: 0.3363 - loss: 0.9955 - val_accuracy: 0.3679 - val_loss: 1.0736\n",
            "Epoch 20/20\n",
            "\u001b[1m  1/176\u001b[0m \u001b[37m━━━━━━━━━━━━━━━━━━━━\u001b[0m \u001b[1m2:38\u001b[0m 907ms/step - accuracy: 0.1875 - loss: 0.7153"
          ]
        },
        {
          "output_type": "stream",
          "name": "stderr",
          "text": [
            "/usr/local/lib/python3.11/dist-packages/keras/src/trainers/epoch_iterator.py:107: UserWarning: Your input ran out of data; interrupting training. Make sure that your dataset or generator can generate at least `steps_per_epoch * epochs` batches. You may need to use the `.repeat()` function when building your dataset.\n",
            "  self._interrupted_warning()\n"
          ]
        },
        {
          "output_type": "stream",
          "name": "stdout",
          "text": [
            "\b\b\b\b\b\b\b\b\b\b\b\b\b\b\b\b\b\b\b\b\b\b\b\b\b\b\b\b\b\b\b\b\b\b\b\b\b\b\b\b\b\b\b\b\b\b\b\b\b\b\b\b\b\b\b\b\b\b\b\b\b\b\b\b\b\b\b\b\b\b\b\b\b\b\b\b\b\b\r\u001b[1m176/176\u001b[0m \u001b[32m━━━━━━━━━━━━━━━━━━━━\u001b[0m\u001b[37m\u001b[0m \u001b[1m5s\u001b[0m 24ms/step - accuracy: 0.1875 - loss: 0.7153 - val_accuracy: 0.3778 - val_loss: 1.0623\n"
          ]
        }
      ]
    },
    {
      "cell_type": "code",
      "source": [
        "from sklearn.metrics import classification_report, confusion_matrix, accuracy_score, precision_score, recall_score, f1_score\n",
        "import numpy as np\n",
        "import seaborn as sns\n",
        "import matplotlib.pyplot as plt\n",
        "\n",
        "# Evaluate the model\n",
        "test_loss, test_acc = cnn_model.evaluate(test_gen)\n",
        "print(f\"\\n Test accuracy (from evaluate): {test_acc:.4f}\")\n",
        "\n",
        "# Predictions\n",
        "y_pred = cnn_model.predict(test_gen)\n",
        "y_pred_classes = np.argmax(y_pred, axis=1)\n",
        "y_true = test_gen.classes\n",
        "\n",
        "# classification report\n",
        "print(\"\\n Classification Report:\")\n",
        "print(classification_report(y_true, y_pred_classes, target_names=class_names))\n",
        "\n",
        "# overall metrics\n",
        "accuracy = accuracy_score(y_true, y_pred_classes)\n",
        "precision = precision_score(y_true, y_pred_classes, average='weighted')\n",
        "recall = recall_score(y_true, y_pred_classes, average='weighted')\n",
        "f1 = f1_score(y_true, y_pred_classes, average='weighted')\n",
        "\n",
        "print(f\" Overall Accuracy:  {accuracy:.4f}\")\n",
        "print(f\" Precision:  {precision:.4f}\")\n",
        "print(f\" Recall:     {recall:.4f}\")\n",
        "print(f\" F1 Score : {f1:.4f}\")\n",
        "\n",
        "# Confusion matrix\n",
        "conf_matrix = confusion_matrix(y_true, y_pred_classes)\n",
        "plt.figure(figsize=(6, 5))\n",
        "sns.heatmap(conf_matrix, annot=True, fmt=\"d\", cmap=\"Blues\", xticklabels=class_names, yticklabels=class_names)\n",
        "plt.title(\"Confusion Matrix\")\n",
        "plt.ylabel('True Label')\n",
        "plt.xlabel('Predicted Label')\n",
        "plt.tight_layout()\n",
        "plt.show()\n"
      ],
      "metadata": {
        "colab": {
          "base_uri": "https://localhost:8080/",
          "height": 871
        },
        "id": "B7pWZ2y1t8Z0",
        "outputId": "b12de085-0584-4881-cf0d-fd2f98dcc076"
      },
      "execution_count": null,
      "outputs": [
        {
          "output_type": "stream",
          "name": "stdout",
          "text": [
            "\u001b[1m12/12\u001b[0m \u001b[32m━━━━━━━━━━━━━━━━━━━━\u001b[0m\u001b[37m\u001b[0m \u001b[1m4s\u001b[0m 355ms/step - accuracy: 0.3620 - loss: 1.0665\n",
            "\n",
            " Test accuracy (from evaluate): 0.3607\n",
            "\u001b[1m12/12\u001b[0m \u001b[32m━━━━━━━━━━━━━━━━━━━━\u001b[0m\u001b[37m\u001b[0m \u001b[1m4s\u001b[0m 297ms/step\n",
            "\n",
            " Classification Report:\n",
            "                       precision    recall  f1-score   support\n",
            "\n",
            "       crazing defect       0.20      0.71      0.31        24\n",
            "         patch defect       0.23      0.90      0.37        84\n",
            "pitted surface defect       0.24      0.39      0.30        89\n",
            "       scratch defect       0.88      0.25      0.39       510\n",
            "\n",
            "             accuracy                           0.36       707\n",
            "            macro avg       0.39      0.56      0.34       707\n",
            "         weighted avg       0.70      0.36      0.37       707\n",
            "\n",
            " Overall Accuracy:  0.3607\n",
            " Precision:  0.7004\n",
            " Recall:     0.3607\n",
            " F1 Score : 0.3717\n"
          ]
        },
        {
          "output_type": "display_data",
          "data": {
            "text/plain": [
              "<Figure size 600x500 with 2 Axes>"
            ],
            "image/png": "[encoded data removed]"
          },
          "metadata": {}
        }
      ]
    },
    {
      "cell_type": "code",
      "source": [
        "#After decreasing number of images in any class of training dataset to less than 1000"
      ],
      "metadata": {
        "id": "9wr9I1xNt8Wa"
      },
      "execution_count": null,
      "outputs": []
    },
    {
      "cell_type": "code",
      "source": [
        "IMG_SIZE = (128,128)\n",
        "BATCH_SIZE = 64\n",
        "\n",
        "# Training data generator with augmentation\n",
        "train_datagen = ImageDataGenerator(\n",
        "    rescale=1./255,\n",
        "    horizontal_flip=True,\n",
        "    rotation_range=30,\n",
        "    zoom_range=0.2,\n",
        "    vertical_flip=True,\n",
        "    width_shift_range=0.1,\n",
        "    height_shift_range=0.1\n",
        "    , brightness_range=[0.7, 1.3]\n",
        ")\n",
        "\n",
        "# Validation data generator (no augmentation)\n",
        "val_datagen = ImageDataGenerator(rescale=1./255)\n",
        "\n",
        "# Test data generator\n",
        "test_datagen = ImageDataGenerator(rescale=1./255)\n"
      ],
      "metadata": {
        "id": "FeyBSbmB55Gl"
      },
      "execution_count": null,
      "outputs": []
    },
    {
      "cell_type": "code",
      "source": [
        "import pandas as pd\n",
        "\n",
        "# Count samples per class\n",
        "min_samples = 1000\n",
        "balanced_df = (\n",
        "    train_df.groupby('class')\n",
        "    .apply(lambda x: x.sample(n=min(len(x), min_samples), random_state=42))\n",
        "    .reset_index(drop=True)\n",
        ")\n",
        "\n",
        "print(\"Before balancing:\", train_df['class'].value_counts())\n",
        "print(\"After balancing:\", balanced_df['class'].value_counts())\n",
        "train_df = balanced_df"
      ],
      "metadata": {
        "colab": {
          "base_uri": "https://localhost:8080/"
        },
        "id": "iMCelCkW58zZ",
        "outputId": "1bfdcff4-21b2-4ee9-941e-0aa2e47b61c4"
      },
      "execution_count": null,
      "outputs": [
        {
          "output_type": "stream",
          "name": "stdout",
          "text": [
            "Before balancing: class\n",
            "scratch defect           8226\n",
            "pitted surface defect    1404\n",
            "patch defect             1282\n",
            "crazing defect            392\n",
            "Name: count, dtype: int64\n",
            "After balancing: class\n",
            "patch defect             1000\n",
            "pitted surface defect    1000\n",
            "scratch defect           1000\n",
            "crazing defect            392\n",
            "Name: count, dtype: int64\n"
          ]
        },
        {
          "output_type": "stream",
          "name": "stderr",
          "text": [
            "/tmp/ipython-input-26-2918817390.py:7: DeprecationWarning: DataFrameGroupBy.apply operated on the grouping columns. This behavior is deprecated, and in a future version of pandas the grouping columns will be excluded from the operation. Either pass `include_groups=False` to exclude the groupings or explicitly select the grouping columns after groupby to silence this warning.\n",
            "  .apply(lambda x: x.sample(n=min(len(x), min_samples), random_state=42))\n"
          ]
        }
      ]
    },
    {
      "cell_type": "code",
      "source": [
        "train_gen = train_datagen.flow_from_dataframe(\n",
        "    dataframe=train_df,\n",
        "    x_col='filepath',\n",
        "    y_col='class',\n",
        "    target_size=IMG_SIZE,\n",
        "    batch_size=BATCH_SIZE,\n",
        "    class_mode='categorical'\n",
        ")\n",
        "\n",
        "val_gen = val_datagen.flow_from_dataframe(\n",
        "    dataframe=val_df,\n",
        "    x_col='filepath',\n",
        "    y_col='class',\n",
        "    target_size=IMG_SIZE,\n",
        "    batch_size=BATCH_SIZE,\n",
        "    class_mode='categorical',\n",
        "    shuffle=False\n",
        ")\n",
        "\n",
        "test_gen = test_datagen.flow_from_dataframe(\n",
        "    dataframe=test_df,\n",
        "    x_col='filepath',\n",
        "    y_col='class',\n",
        "    target_size=IMG_SIZE,\n",
        "    batch_size=BATCH_SIZE,\n",
        "    class_mode='categorical',\n",
        "    shuffle=False\n",
        ")\n"
      ],
      "metadata": {
        "colab": {
          "base_uri": "https://localhost:8080/"
        },
        "id": "_Adev-SC6JEJ",
        "outputId": "1afa27f9-9412-453a-c829-18b5b6a8de04"
      },
      "execution_count": null,
      "outputs": [
        {
          "output_type": "stream",
          "name": "stdout",
          "text": [
            "Found 3392 validated image filenames belonging to 4 classes.\n",
            "Found 710 validated image filenames belonging to 4 classes.\n",
            "Found 707 validated image filenames belonging to 4 classes.\n"
          ]
        }
      ]
    },
    {
      "cell_type": "code",
      "source": [
        "input_shape = (128,128,3)\n",
        "\n",
        "\n",
        "def create_cnn_model(input_shape=(128, 128, 3)):\n",
        "    model = models.Sequential([\n",
        "        layers.Input(shape=input_shape),\n",
        "        layers.Conv2D(16, (3, 3), activation='relu'),\n",
        "        layers.MaxPooling2D((2, 2)),\n",
        "        layers.Conv2D(32, (3, 3), activation='relu'),\n",
        "        layers.MaxPooling2D((2, 2)),\n",
        "        layers.Flatten(),\n",
        "        layers.Dropout(.5),\n",
        "        layers.Dense(64, activation='relu'),\n",
        "        layers.Dense(32, activation='relu'),\n",
        "        layers.Dense(4, activation='softmax')  # 4 classes\n",
        "    ])\n",
        "\n",
        "    model.compile(optimizer='adam',\n",
        "                  loss='categorical_crossentropy',\n",
        "                  metrics=['accuracy'])\n",
        "    return model\n",
        "\n",
        "\n",
        "cnn_model = create_cnn_model()\n",
        "\n"
      ],
      "metadata": {
        "id": "CZM35YH1suui"
      },
      "execution_count": null,
      "outputs": []
    },
    {
      "cell_type": "code",
      "source": [
        "from sklearn.utils import class_weight\n",
        "import numpy as np\n",
        "\n",
        "# Compute class weights\n",
        "class_weights = class_weight.compute_class_weight(\n",
        "    class_weight='balanced',\n",
        "    classes=np.unique(train_df['class']),\n",
        "    y=train_df['class']\n",
        ")\n",
        "\n",
        "# Map to class indices\n",
        "class_indices = train_gen.class_indices\n",
        "weights_dict = {class_indices[cls]: weight for cls, weight in zip(np.unique(train_df['class']), class_weights)}\n",
        "\n",
        "# Train the model with weights\n",
        "history = cnn_model.fit(\n",
        "    train_gen,\n",
        "    steps_per_epoch=train_gen.samples // BATCH_SIZE,\n",
        "    epochs=20,  # Keep low for speed\n",
        "    validation_data=val_gen,\n",
        "    validation_steps=val_gen.samples // BATCH_SIZE,\n",
        "    class_weight=weights_dict\n",
        ")\n"
      ],
      "metadata": {
        "id": "eEM4v_iasvAG",
        "colab": {
          "base_uri": "https://localhost:8080/"
        },
        "outputId": "fc81e501-c57e-4808-b058-b82f7e25dbf3"
      },
      "execution_count": null,
      "outputs": [
        {
          "output_type": "stream",
          "name": "stdout",
          "text": [
            "Epoch 1/20\n",
            "\u001b[1m53/53\u001b[0m \u001b[32m━━━━━━━━━━━━━━━━━━━━\u001b[0m\u001b[37m\u001b[0m \u001b[1m37s\u001b[0m 687ms/step - accuracy: 0.4063 - loss: 1.1533 - val_accuracy: 0.3040 - val_loss: 1.2023\n",
            "Epoch 2/20\n",
            "\u001b[1m53/53\u001b[0m \u001b[32m━━━━━━━━━━━━━━━━━━━━\u001b[0m\u001b[37m\u001b[0m \u001b[1m41s\u001b[0m 691ms/step - accuracy: 0.4140 - loss: 1.1071 - val_accuracy: 0.2415 - val_loss: 1.2515\n",
            "Epoch 3/20\n",
            "\u001b[1m53/53\u001b[0m \u001b[32m━━━━━━━━━━━━━━━━━━━━\u001b[0m\u001b[37m\u001b[0m \u001b[1m82s\u001b[0m 1s/step - accuracy: 0.4175 - loss: 1.1153 - val_accuracy: 0.2614 - val_loss: 1.1932\n",
            "Epoch 4/20\n",
            "\u001b[1m53/53\u001b[0m \u001b[32m━━━━━━━━━━━━━━━━━━━━\u001b[0m\u001b[37m\u001b[0m \u001b[1m45s\u001b[0m 768ms/step - accuracy: 0.4347 - loss: 1.1103 - val_accuracy: 0.2727 - val_loss: 1.3702\n",
            "Epoch 5/20\n",
            "\u001b[1m53/53\u001b[0m \u001b[32m━━━━━━━━━━━━━━━━━━━━\u001b[0m\u001b[37m\u001b[0m \u001b[1m41s\u001b[0m 775ms/step - accuracy: 0.4591 - loss: 1.0893 - val_accuracy: 0.4261 - val_loss: 1.1421\n",
            "Epoch 6/20\n",
            "\u001b[1m53/53\u001b[0m \u001b[32m━━━━━━━━━━━━━━━━━━━━\u001b[0m\u001b[37m\u001b[0m \u001b[1m77s\u001b[0m 674ms/step - accuracy: 0.4637 - loss: 1.0724 - val_accuracy: 0.4403 - val_loss: 1.0601\n",
            "Epoch 7/20\n",
            "\u001b[1m53/53\u001b[0m \u001b[32m━━━━━━━━━━━━━━━━━━━━\u001b[0m\u001b[37m\u001b[0m \u001b[1m40s\u001b[0m 657ms/step - accuracy: 0.4594 - loss: 1.0742 - val_accuracy: 0.3807 - val_loss: 1.1775\n",
            "Epoch 8/20\n",
            "\u001b[1m53/53\u001b[0m \u001b[32m━━━━━━━━━━━━━━━━━━━━\u001b[0m\u001b[37m\u001b[0m \u001b[1m82s\u001b[0m 1s/step - accuracy: 0.4585 - loss: 1.0621 - val_accuracy: 0.3935 - val_loss: 1.0902\n",
            "Epoch 9/20\n",
            "\u001b[1m53/53\u001b[0m \u001b[32m━━━━━━━━━━━━━━━━━━━━\u001b[0m\u001b[37m\u001b[0m \u001b[1m82s\u001b[0m 1s/step - accuracy: 0.4819 - loss: 1.0472 - val_accuracy: 0.4659 - val_loss: 1.0651\n",
            "Epoch 10/20\n",
            "\u001b[1m53/53\u001b[0m \u001b[32m━━━━━━━━━━━━━━━━━━━━\u001b[0m\u001b[37m\u001b[0m \u001b[1m82s\u001b[0m 1s/step - accuracy: 0.5103 - loss: 1.0062 - val_accuracy: 0.4659 - val_loss: 1.0505\n",
            "Epoch 11/20\n",
            "\u001b[1m30/53\u001b[0m \u001b[32m━━━━━━━━━━━\u001b[0m\u001b[37m━━━━━━━━━\u001b[0m \u001b[1m14s\u001b[0m 639ms/step - accuracy: 0.4666 - loss: 1.0471"
          ]
        },
        {
          "output_type": "stream",
          "name": "stderr",
          "text": [
            "/usr/local/lib/python3.11/dist-packages/keras/src/legacy/preprocessing/image.py:1880: DeprecationWarning: Please import `affine_transform` from the `scipy.ndimage` namespace; the `scipy.ndimage.interpolation` namespace is deprecated and will be removed in SciPy 2.0.0.\n",
            "  scipy.ndimage.interpolation.affine_transform(\n",
            "/usr/local/lib/python3.11/dist-packages/keras/src/legacy/preprocessing/image.py:1880: DeprecationWarning: Please import `affine_transform` from the `scipy.ndimage` namespace; the `scipy.ndimage.interpolation` namespace is deprecated and will be removed in SciPy 2.0.0.\n",
            "  scipy.ndimage.interpolation.affine_transform(\n",
            "/usr/local/lib/python3.11/dist-packages/keras/src/legacy/preprocessing/image.py:1880: DeprecationWarning: Please import `affine_transform` from the `scipy.ndimage` namespace; the `scipy.ndimage.interpolation` namespace is deprecated and will be removed in SciPy 2.0.0.\n",
            "  scipy.ndimage.interpolation.affine_transform(\n",
            "/usr/local/lib/python3.11/dist-packages/keras/src/legacy/preprocessing/image.py:1880: DeprecationWarning: Please import `affine_transform` from the `scipy.ndimage` namespace; the `scipy.ndimage.interpolation` namespace is deprecated and will be removed in SciPy 2.0.0.\n",
            "  scipy.ndimage.interpolation.affine_transform(\n"
          ]
        },
        {
          "output_type": "stream",
          "name": "stdout",
          "text": [
            "\u001b[1m53/53\u001b[0m \u001b[32m━━━━━━━━━━━━━━━━━━━━\u001b[0m\u001b[37m\u001b[0m \u001b[1m82s\u001b[0m 1s/step - accuracy: 0.4833 - loss: 1.0240 - val_accuracy: 0.4034 - val_loss: 1.1295\n",
            "Epoch 12/20\n",
            "\u001b[1m53/53\u001b[0m \u001b[32m━━━━━━━━━━━━━━━━━━━━\u001b[0m\u001b[37m\u001b[0m \u001b[1m36s\u001b[0m 675ms/step - accuracy: 0.5196 - loss: 0.9882 - val_accuracy: 0.3324 - val_loss: 1.1301\n",
            "Epoch 13/20\n",
            "\u001b[1m53/53\u001b[0m \u001b[32m━━━━━━━━━━━━━━━━━━━━\u001b[0m\u001b[37m\u001b[0m \u001b[1m36s\u001b[0m 683ms/step - accuracy: 0.5297 - loss: 0.9819 - val_accuracy: 0.3679 - val_loss: 1.1775\n",
            "Epoch 14/20\n",
            "\u001b[1m53/53\u001b[0m \u001b[32m━━━━━━━━━━━━━━━━━━━━\u001b[0m\u001b[37m\u001b[0m \u001b[1m42s\u001b[0m 698ms/step - accuracy: 0.5154 - loss: 0.9827 - val_accuracy: 0.5469 - val_loss: 0.9402\n",
            "Epoch 15/20\n",
            "\u001b[1m53/53\u001b[0m \u001b[32m━━━━━━━━━━━━━━━━━━━━\u001b[0m\u001b[37m\u001b[0m \u001b[1m81s\u001b[0m 1s/step - accuracy: 0.5527 - loss: 0.9356 - val_accuracy: 0.4134 - val_loss: 1.1237\n",
            "Epoch 16/20\n",
            "\u001b[1m53/53\u001b[0m \u001b[32m━━━━━━━━━━━━━━━━━━━━\u001b[0m\u001b[37m\u001b[0m \u001b[1m41s\u001b[0m 757ms/step - accuracy: 0.5382 - loss: 0.9593 - val_accuracy: 0.4403 - val_loss: 1.0280\n",
            "Epoch 17/20\n",
            "\u001b[1m53/53\u001b[0m \u001b[32m━━━━━━━━━━━━━━━━━━━━\u001b[0m\u001b[37m\u001b[0m \u001b[1m41s\u001b[0m 768ms/step - accuracy: 0.5379 - loss: 0.9665 - val_accuracy: 0.4659 - val_loss: 1.0583\n",
            "Epoch 18/20\n",
            "\u001b[1m53/53\u001b[0m \u001b[32m━━━━━━━━━━━━━━━━━━━━\u001b[0m\u001b[37m\u001b[0m \u001b[1m41s\u001b[0m 781ms/step - accuracy: 0.5574 - loss: 0.9377 - val_accuracy: 0.3949 - val_loss: 1.1007\n",
            "Epoch 19/20\n",
            "\u001b[1m53/53\u001b[0m \u001b[32m━━━━━━━━━━━━━━━━━━━━\u001b[0m\u001b[37m\u001b[0m \u001b[1m40s\u001b[0m 756ms/step - accuracy: 0.5210 - loss: 0.9619 - val_accuracy: 0.4020 - val_loss: 1.1362\n",
            "Epoch 20/20\n",
            "\u001b[1m53/53\u001b[0m \u001b[32m━━━━━━━━━━━━━━━━━━━━\u001b[0m\u001b[37m\u001b[0m \u001b[1m37s\u001b[0m 678ms/step - accuracy: 0.5515 - loss: 0.9340 - val_accuracy: 0.4332 - val_loss: 1.1083\n"
          ]
        }
      ]
    },
    {
      "cell_type": "code",
      "source": [
        "# Evaluate the model\n",
        "test_loss, test_acc = cnn_model.evaluate(test_gen)\n",
        "print(f\"\\n Test accuracy (from evaluate): {test_acc:.4f}\")\n",
        "\n",
        "# Predictions\n",
        "y_pred = cnn_model.predict(test_gen)\n",
        "y_pred_classes = np.argmax(y_pred, axis=1)\n",
        "y_true = test_gen.classes\n",
        "\n",
        "# classification report\n",
        "print(\"\\n Classification Report:\")\n",
        "print(classification_report(y_true, y_pred_classes, target_names=class_names))\n",
        "\n",
        "# overall metrics\n",
        "accuracy = accuracy_score(y_true, y_pred_classes)\n",
        "precision = precision_score(y_true, y_pred_classes, average='weighted')\n",
        "recall = recall_score(y_true, y_pred_classes, average='weighted')\n",
        "f1 = f1_score(y_true, y_pred_classes, average='weighted')\n",
        "\n",
        "print(f\" Overall Accuracy:  {accuracy:.4f}\")\n",
        "print(f\" Precision:  {precision:.4f}\")\n",
        "print(f\" Recall:     {recall:.4f}\")\n",
        "print(f\" F1 Score : {f1:.4f}\")\n",
        "\n",
        "# Confusion matrix\n",
        "conf_matrix = confusion_matrix(y_true, y_pred_classes)\n",
        "plt.figure(figsize=(6, 5))\n",
        "sns.heatmap(conf_matrix, annot=True, fmt=\"d\", cmap=\"Blues\", xticklabels=class_names, yticklabels=class_names)\n",
        "plt.title(\"Confusion Matrix\")\n",
        "plt.ylabel('True Label')\n",
        "plt.xlabel('Predicted Label')\n",
        "plt.tight_layout()\n",
        "plt.show()\n",
        "\n"
      ],
      "metadata": {
        "colab": {
          "base_uri": "https://localhost:8080/",
          "height": 871
        },
        "outputId": "608bebe8-6b34-486a-82e8-e8f7c15873ce",
        "id": "OKj7rka3_LJ5"
      },
      "execution_count": null,
      "outputs": [
        {
          "output_type": "stream",
          "name": "stdout",
          "text": [
            "\u001b[1m12/12\u001b[0m \u001b[32m━━━━━━━━━━━━━━━━━━━━\u001b[0m\u001b[37m\u001b[0m \u001b[1m2s\u001b[0m 150ms/step - accuracy: 0.4050 - loss: 1.1267\n",
            "\n",
            " Test accuracy (from evaluate): 0.4243\n",
            "\u001b[1m12/12\u001b[0m \u001b[32m━━━━━━━━━━━━━━━━━━━━\u001b[0m\u001b[37m\u001b[0m \u001b[1m3s\u001b[0m 224ms/step\n",
            "\n",
            " Classification Report:\n",
            "                       precision    recall  f1-score   support\n",
            "\n",
            "       crazing defect       0.18      0.83      0.29        24\n",
            "         patch defect       0.35      0.86      0.50        84\n",
            "pitted surface defect       0.25      0.63      0.36        89\n",
            "       scratch defect       0.93      0.30      0.45       510\n",
            "\n",
            "             accuracy                           0.42       707\n",
            "            macro avg       0.43      0.65      0.40       707\n",
            "         weighted avg       0.75      0.42      0.44       707\n",
            "\n",
            " Overall Accuracy:  0.4243\n",
            " Precision:  0.7515\n",
            " Recall:     0.4243\n",
            " F1 Score : 0.4396\n"
          ]
        },
        {
          "output_type": "display_data",
          "data": {
            "text/plain": [
              "<Figure size 600x500 with 2 Axes>"
            ],
            "image/png": "[encoded data removed]"
          },
          "metadata": {}
        }
      ]
    }
  ]
}