{
  "nbformat": 4,
  "nbformat_minor": 0,
  "metadata": {
    "colab": {
      "provenance": [],
      "authorship_tag": "ABX9TyOdxglexzZLIVS1+s0mAXgs",
      "include_colab_link": true
    },
    "kernelspec": {
      "name": "python3",
      "display_name": "Python 3"
    },
    "language_info": {
      "name": "python"
    }
  },
  "cells": [
    {
      "cell_type": "markdown",
      "metadata": {
        "id": "view-in-github",
        "colab_type": "text"
      },
      "source": [
        "<a href=\"https://colab.research.google.com/github/pragatipatel26/Image-Processing/blob/main/Segmentation_based_model.ipynb\" target=\"_parent\"><img src=\"https://colab.research.google.com/assets/colab-badge.svg\" alt=\"Open In Colab\"/></a>"
      ]
    },
    {
      "cell_type": "code",
      "execution_count": null,
      "metadata": {
        "id": "Ey7jnRyFZAvK"
      },
      "outputs": [],
      "source": [
        "import os\n",
        "import cv2\n",
        "import numpy as np\n",
        "import pandas as pd\n",
        "from tqdm import tqdm\n",
        "import matplotlib.pyplot as plt\n",
        "\n",
        "from sklearn.model_selection import train_test_split\n",
        "from sklearn.metrics import classification_report\n",
        "\n",
        "import tensorflow as tf\n",
        "from tensorflow.keras.applications import EfficientNetB0\n",
        "from tensorflow.keras.layers import Dense, Flatten, Input\n",
        "from tensorflow.keras.models import Model\n",
        "from tensorflow.keras.utils import to_categorical\n",
        "from sklearn.preprocessing import LabelEncoder"
      ]
    },
    {
      "cell_type": "code",
      "source": [
        "def load_images(data_dir):\n",
        "    images, labels = [], []\n",
        "    for root, _, files in os.walk(data_dir):\n",
        "        for file in files:\n",
        "            if file.endswith('.jpg') or file.endswith('.png'):\n",
        "                image_path = os.path.join(root, file)\n",
        "                label = os.path.basename(root)  # Class name as label\n",
        "                image = cv2.imread(image_path)\n",
        "                image = cv2.resize(image, (256, 256))  # Resize for uniformity\n",
        "                images.append(image)\n",
        "                labels.append(label)\n",
        "    return np.array(images), np.array(labels)"
      ],
      "metadata": {
        "id": "g2IRYbfUZOAG"
      },
      "execution_count": null,
      "outputs": []
    },
    {
      "cell_type": "code",
      "source": [
        "from google.colab import drive\n",
        "drive.mount('/content/drive')\n"
      ],
      "metadata": {
        "colab": {
          "base_uri": "https://localhost:8080/"
        },
        "id": "8JlLNSHClesr",
        "outputId": "9e0b4d2d-fbc0-4f80-8903-468b5c0bb45a"
      },
      "execution_count": null,
      "outputs": [
        {
          "output_type": "stream",
          "name": "stdout",
          "text": [
            "Drive already mounted at /content/drive; to attempt to forcibly remount, call drive.mount(\"/content/drive\", force_remount=True).\n"
          ]
        }
      ]
    },
    {
      "cell_type": "code",
      "source": [
        "zip_path = \"/content/drive/My Drive/Dataset.zip\"\n",
        "extract_path = \"/content/dataset\"  # Local extraction folder in Colab\n",
        "\n",
        "import zipfile\n",
        "\n",
        "with zipfile.ZipFile(zip_path, 'r') as zip_ref:\n",
        "    zip_ref.extractall(extract_path)\n",
        "\n",
        "print(\"Extracted to:\", extract_path)"
      ],
      "metadata": {
        "colab": {
          "base_uri": "https://localhost:8080/"
        },
        "id": "apfk0K_vmRRM",
        "outputId": "df793c0c-4650-435d-b5c3-90f936e9fbe3"
      },
      "execution_count": null,
      "outputs": [
        {
          "output_type": "stream",
          "name": "stdout",
          "text": [
            "Extracted to: /content/dataset\n"
          ]
        }
      ]
    },
    {
      "cell_type": "code",
      "source": [
        "import os\n",
        "for root, dirs, files in os.walk(extract_path):\n",
        "    print( root)\n",
        "    for f in files[:5]:  # show only a few files per folder\n",
        "        print(\"   └──\", f)"
      ],
      "metadata": {
        "colab": {
          "base_uri": "https://localhost:8080/"
        },
        "id": "_0xRI2WCbCU3",
        "outputId": "f6ef75fe-1644-4635-d553-811c1ee2aa8c"
      },
      "execution_count": null,
      "outputs": [
        {
          "output_type": "stream",
          "name": "stdout",
          "text": [
            "/content/dataset\n",
            "   └── README.roboflow.txt\n",
            "   └── README.dataset.txt\n",
            "/content/dataset/train\n",
            "   └── f7f2d555c_jpg.rf.357450df0168552824095eb6cd5265a3.jpg\n",
            "   └── 0f8305adb_jpg.rf.64c0df7992f3a51d6f1d6aece8cf6779.jpg\n",
            "   └── 62a62b552_jpg.rf.88cb188382ee29074c4863140040c59c.jpg\n",
            "   └── aff405a28_jpg.rf.789afdc44feb3ec0f3a14a154a4a32d0.jpg\n",
            "   └── ed22af554_jpg.rf.f00cb8300365b8d345304f27c07d19ce.jpg\n",
            "/content/dataset/test\n",
            "   └── 8ceba5ea5_jpg.rf.1cf328ea02e3f5751be6e87d6b49f0a3.jpg\n",
            "   └── a493cde22_jpg.rf.b8c594cc17afcac631010d9dd63ad76c.jpg\n",
            "   └── 370b998e7_jpg.rf.035145e210cbc858e9d905fd93e9c9af.jpg\n",
            "   └── 60d7248a8_jpg.rf.bea39406c581822e28edcbc3b4fb629c.jpg\n",
            "   └── 0a9a7a6c7_jpg.rf.17ae32f944e04779f6748c38dd85c707.jpg\n",
            "/content/dataset/valid\n",
            "   └── 9bf863558_jpg.rf.df31a02f325c8a411d8dabc06355fedc.jpg\n",
            "   └── d81eb8a93_jpg.rf.3bc6d0b4680d39c0d6d1cc6cee01f982.jpg\n",
            "   └── cf5e8eb2c_jpg.rf.3cb5c1ccf1698f003d62ac135caf9254.jpg\n",
            "   └── 25b57b528_jpg.rf.6b849ec680289079ad8a9536ed60e01d.jpg\n",
            "   └── 00c88fed0_jpg.rf.767a24d38cbd4eb7c2b4e5fa138a3d22.jpg\n"
          ]
        }
      ]
    },
    {
      "cell_type": "code",
      "source": [
        "import glob\n",
        "\n",
        "# Look for all CSV and Excel files in the dataset directory\n",
        "csv_files = glob.glob(\"/content/dataset/**/*.csv\", recursive=True)\n",
        "excel_files = glob.glob(\"/content/dataset/**/*.xlsx\", recursive=True)\n",
        "\n",
        "print(\"CSV files found:\", csv_files)\n",
        "print(\"Excel files found:\", excel_files)"
      ],
      "metadata": {
        "colab": {
          "base_uri": "https://localhost:8080/"
        },
        "id": "eTC2g1VzbFp4",
        "outputId": "e750a399-24a2-4a56-8af3-9ac7e9accae2"
      },
      "execution_count": null,
      "outputs": [
        {
          "output_type": "stream",
          "name": "stdout",
          "text": [
            "CSV files found: ['/content/dataset/train/_annotations.csv', '/content/dataset/test/_annotations.csv', '/content/dataset/valid/_annotations.csv']\n",
            "Excel files found: []\n"
          ]
        }
      ]
    },
    {
      "cell_type": "code",
      "source": [
        "import pandas as pd\n",
        "\n",
        "train_csv = \"/content/dataset/train/_annotations.csv\"\n",
        "df_train = pd.read_csv(train_csv)\n",
        "print(\"Train CSV columns:\\n\", df_train.columns)\n",
        "print(\"\\nSample rows:\")\n",
        "print(df_train.head())"
      ],
      "metadata": {
        "colab": {
          "base_uri": "https://localhost:8080/"
        },
        "id": "0MRYCU0cbIGx",
        "outputId": "3b5a7f25-cebb-4653-84f2-bca93d05c3e3"
      },
      "execution_count": null,
      "outputs": [
        {
          "output_type": "stream",
          "name": "stdout",
          "text": [
            "Train CSV columns:\n",
            " Index(['filename', 'width', 'height', 'class', 'xmin', 'ymin', 'xmax', 'ymax'], dtype='object')\n",
            "\n",
            "Sample rows:\n",
            "                                            filename  width  height  \\\n",
            "0  6212e44a0_jpg.rf.eca9d0d2821273911813398f6cf9b...    512     256   \n",
            "1  6212e44a0_jpg.rf.eca9d0d2821273911813398f6cf9b...    512     256   \n",
            "2  43b6618bf_jpg.rf.ec7a7bcb21bcc7881051906d564ba...    512     256   \n",
            "3  43b6618bf_jpg.rf.ec7a7bcb21bcc7881051906d564ba...    512     256   \n",
            "4  43b6618bf_jpg.rf.ec7a7bcb21bcc7881051906d564ba...    512     256   \n",
            "\n",
            "            class  xmin  ymin  xmax  ymax  \n",
            "0  scratch defect   488   104   493   172  \n",
            "1  scratch defect   164     1   169    84  \n",
            "2  scratch defect   212   130   221   184  \n",
            "3  scratch defect    93   113   107   162  \n",
            "4  scratch defect   230     0   247    20  \n"
          ]
        }
      ]
    },
    {
      "cell_type": "code",
      "source": [
        "# Group by filename and take the first class label (assumes all boxes in one image belong to same class)\n",
        "df_class = df_train.groupby('filename')['class'].first().reset_index()\n",
        "\n",
        "\n",
        "#df_class['class'] = df_class['class'].str.replace(\" defect\", \"\", regex=False)\n",
        "print(df_class['class'].value_counts())  # See class distribution\n",
        "\n",
        "# Save for later use\n",
        "df_class.to_csv(\"/content/train_labels.csv\", index=False)"
      ],
      "metadata": {
        "colab": {
          "base_uri": "https://localhost:8080/"
        },
        "id": "KvMdfG54bLu6",
        "outputId": "4ab797ae-be5a-4dcd-a923-4e771f54f5d9"
      },
      "execution_count": null,
      "outputs": [
        {
          "output_type": "stream",
          "name": "stdout",
          "text": [
            "class\n",
            "scratch defect           8070\n",
            "pitted surface defect    1404\n",
            "patch defect              826\n",
            "crazing defect            330\n",
            "Name: count, dtype: int64\n"
          ]
        }
      ]
    },
    {
      "cell_type": "code",
      "source": [
        "#visualization of class distribution\n",
        "import matplotlib.pyplot as plt\n",
        "\n",
        "df_class['class'].value_counts().plot(kind='bar', color='green')\n",
        "plt.title(\"Class Distribution in Training Set\")\n",
        "plt.xlabel(\"Defect Class\")\n",
        "import matplotlib.pyplot as plt\n",
        "\n",
        "df_class['class'].value_counts().plot(kind='bar', color='green')\n",
        "plt.title(\"Class Distribution in Training Set\")\n",
        "plt.xlabel(\"Defect Class\")\n",
        "plt.ylabel(\"Count\")\n",
        "plt.xticks(rotation=45)\n",
        "plt.grid(axis='y')\n",
        "#plt.grid(axis='x')\n",
        "plt.show()"
      ],
      "metadata": {
        "colab": {
          "base_uri": "https://localhost:8080/",
          "height": 570
        },
        "id": "md-FiBnbbPDs",
        "outputId": "6f011011-fb06-4537-f660-51ba260e0ac5"
      },
      "execution_count": null,
      "outputs": [
        {
          "output_type": "display_data",
          "data": {
            "text/plain": [
              "<Figure size 640x480 with 1 Axes>"
            ],
            "image/png": "[encoded data removed]"
          },
          "metadata": {}
        }
      ]
    },
    {
      "cell_type": "code",
      "source": [
        "#image preprocessing using imagedatagenerator class in keras\n",
        "IMG_SIZE = (128,128)\n",
        "BATCH_SIZE = 64\n",
        "\n",
        "from tensorflow.keras.preprocessing.image import ImageDataGenerator\n",
        "\n",
        "# Training data generator with augmentation\n",
        "train_datagen = ImageDataGenerator(\n",
        "    rescale=1./255,\n",
        "    horizontal_flip=True,\n",
        "    rotation_range=20,\n",
        "    zoom_range=0.2,\n",
        "    width_shift_range=0.1,\n",
        "    height_shift_range=0.1\n",
        ")\n",
        "\n",
        "# Validation data generator (no augmentation)\n",
        "val_datagen = ImageDataGenerator(rescale=1./255)\n",
        "\n",
        "#test data generator\n",
        "test_datagen = ImageDataGenerator(rescale=1./255)"
      ],
      "metadata": {
        "id": "6U77oQ5ebkHg"
      },
      "execution_count": null,
      "outputs": []
    },
    {
      "cell_type": "code",
      "source": [
        "#creation of train,valid and test dataframe\n",
        "import pandas as pd\n",
        "import os\n",
        "\n",
        "# Define base directories\n",
        "base_dir = \"/content/dataset\"\n",
        "train_dir = os.path.join(base_dir, \"train\")\n",
        "val_dir = os.path.join(base_dir, \"valid\")\n",
        "test_dir = os.path.join(base_dir, \"test\")\n",
        "\n",
        "# Load CSV files\n",
        "train_csv = pd.read_csv(os.path.join(train_dir, \"_annotations.csv\"))\n",
        "val_csv = pd.read_csv(os.path.join(val_dir, \"_annotations.csv\"))\n",
        "test_csv = pd.read_csv(os.path.join(test_dir, \"_annotations.csv\"))\n"
      ],
      "metadata": {
        "id": "c5-txrhrw059"
      },
      "execution_count": null,
      "outputs": []
    },
    {
      "cell_type": "code",
      "source": [
        "# Drop duplicate labels per image\n",
        "train_df = train_csv[['filename', 'class']].drop_duplicates()\n",
        "val_df = val_csv[['filename', 'class']].drop_duplicates()\n",
        "test_df = test_csv[['filename', 'class']].drop_duplicates()\n"
      ],
      "metadata": {
        "id": "rmepbgeGcQ1P"
      },
      "execution_count": null,
      "outputs": []
    },
    {
      "cell_type": "code",
      "source": [
        "# Add image paths\n",
        "train_df['filepath'] = train_df['filename'].apply(lambda x: os.path.join(train_dir, x))\n",
        "val_df['filepath'] = val_df['filename'].apply(lambda x: os.path.join(val_dir, x))\n",
        "test_df['filepath'] = test_df['filename'].apply(lambda x: os.path.join(test_dir, x))\n"
      ],
      "metadata": {
        "id": "__mW2Pr_xDz7"
      },
      "execution_count": null,
      "outputs": []
    },
    {
      "cell_type": "code",
      "source": [
        "# Encode class labels into integers\n",
        "from sklearn.preprocessing import LabelEncoder\n",
        "\n",
        "le = LabelEncoder()\n",
        "all_classes = train_df['class'].tolist() + val_df['class'].tolist() + test_df['class'].tolist()\n",
        "le.fit(all_classes)\n",
        "\n",
        "train_df['label'] = le.transform(train_df['class'])\n",
        "val_df['label'] = le.transform(val_df['class'])\n",
        "test_df['label'] = le.transform(test_df['class'])\n",
        "\n",
        "# Optional: Keep class index mapping for later use\n",
        "label_mapping = dict(zip(le.classes_, le.transform(le.classes_)))\n",
        "print(\"Label mapping:\", label_mapping)\n"
      ],
      "metadata": {
        "colab": {
          "base_uri": "https://localhost:8080/"
        },
        "id": "iAVkvdlDraPD",
        "outputId": "22690504-b949-462f-a7cb-ddb27a0e378f"
      },
      "execution_count": null,
      "outputs": [
        {
          "output_type": "stream",
          "name": "stdout",
          "text": [
            "Label mapping: {np.str_('crazing defect'): np.int64(0), np.str_('patch defect'): np.int64(1), np.str_('pitted surface defect'): np.int64(2), np.str_('scratch defect'): np.int64(3)}\n"
          ]
        }
      ]
    },
    {
      "cell_type": "code",
      "source": [
        "train_gen = train_datagen.flow_from_dataframe(\n",
        "    dataframe=train_df,\n",
        "    x_col='filepath',\n",
        "    y_col='class',\n",
        "    target_size=IMG_SIZE,\n",
        "    batch_size=BATCH_SIZE,\n",
        "    class_mode='categorical'\n",
        ")\n",
        "\n",
        "val_gen = val_datagen.flow_from_dataframe(\n",
        "    dataframe=val_df,\n",
        "    x_col='filepath',\n",
        "    y_col='class',\n",
        "    target_size=IMG_SIZE,\n",
        "    batch_size=BATCH_SIZE,\n",
        "    class_mode='categorical',\n",
        "    shuffle=False\n",
        ")\n",
        "\n",
        "test_gen = test_datagen.flow_from_dataframe(\n",
        "    dataframe=test_df,\n",
        "    x_col='filepath',\n",
        "    y_col='class',\n",
        "    target_size=IMG_SIZE,\n",
        "    batch_size=BATCH_SIZE,\n",
        "    class_mode='categorical',\n",
        "    shuffle=False\n",
        ")\n"
      ],
      "metadata": {
        "colab": {
          "base_uri": "https://localhost:8080/"
        },
        "id": "bt0HooCiwc-m",
        "outputId": "6e887044-5229-44a2-c183-928521e6faf7"
      },
      "execution_count": null,
      "outputs": [
        {
          "output_type": "stream",
          "name": "stdout",
          "text": [
            "Found 11304 validated image filenames belonging to 4 classes.\n",
            "Found 710 validated image filenames belonging to 4 classes.\n",
            "Found 707 validated image filenames belonging to 4 classes.\n"
          ]
        }
      ]
    },
    {
      "cell_type": "code",
      "source": [
        "import numpy as np\n",
        "import tensorflow as tf\n",
        "from tensorflow.keras.utils import Sequence\n",
        "import cv2\n",
        "\n",
        "class SegmentationDataGenerator(Sequence):\n",
        "    def __init__(self, dataframe, batch_size, img_size, method='canny', shuffle=True, num_classes=4):\n",
        "        self.df = dataframe.reset_index(drop=True)\n",
        "        self.batch_size = batch_size\n",
        "        self.img_size = img_size  # (width, height)\n",
        "        self.shuffle = shuffle\n",
        "        self.method = method\n",
        "        self.num_classes = num_classes\n",
        "        self.on_epoch_end()\n",
        "\n",
        "    def __len__(self):\n",
        "        return int(np.ceil(len(self.df) / self.batch_size))\n",
        "\n",
        "    def on_epoch_end(self):\n",
        "        if self.shuffle:\n",
        "            self.df = self.df.sample(frac=1).reset_index(drop=True)\n",
        "\n",
        "    def __getitem__(self, index):\n",
        "        batch_df = self.df.iloc[index * self.batch_size:(index + 1) * self.batch_size]\n",
        "        images, labels = [], []\n",
        "\n",
        "        for _, row in batch_df.iterrows():\n",
        "            img = cv2.imread(row['filepath'])\n",
        "            if img is None:\n",
        "                raise ValueError(f\"Could not read image: {row['filepath']}\")\n",
        "            processed_img = self.apply_masking(img)\n",
        "            processed_img = cv2.resize(processed_img, self.img_size)\n",
        "            processed_img = processed_img.astype(np.float32) / 255.0\n",
        "            images.append(processed_img)\n",
        "            labels.append(row['label'])\n",
        "\n",
        "        X = np.array(images)\n",
        "        y = tf.keras.utils.to_categorical(labels, num_classes=self.num_classes)\n",
        "        return X, y\n",
        "\n",
        "    def apply_masking(self, img):\n",
        "        if self.method == 'canny':\n",
        "            return self.mask_canny(img)\n",
        "        elif self.method == 'otsu':\n",
        "            return self.mask_otsu(img)\n",
        "        elif self.method == 'crop':\n",
        "            return self.crop_by_contours(img)\n",
        "        else:\n",
        "            raise ValueError(f\"Unknown method: {self.method}\")\n",
        "\n",
        "    def mask_canny(self, img):\n",
        "        gray = cv2.cvtColor(img, cv2.COLOR_BGR2GRAY)\n",
        "        edges = cv2.Canny(gray, 50, 150)\n",
        "        kernel = np.ones((5,5), np.uint8)\n",
        "        mask = cv2.dilate(edges, kernel, iterations=1)\n",
        "        return cv2.bitwise_and(img, img, mask=mask)\n",
        "\n",
        "    def mask_otsu(self, img):\n",
        "        gray = cv2.cvtColor(img, cv2.COLOR_BGR2GRAY)\n",
        "        _, mask = cv2.threshold(gray, 0, 255, cv2.THRESH_BINARY + cv2.THRESH_OTSU)\n",
        "        return cv2.bitwise_and(img, img, mask=mask)\n",
        "\n",
        "    def crop_by_contours(self, img):\n",
        "        gray = cv2.cvtColor(img, cv2.COLOR_BGR2GRAY)\n",
        "        _, thresh = cv2.threshold(gray, 0, 255, cv2.THRESH_BINARY + cv2.THRESH_OTSU)\n",
        "        contours, _ = cv2.findContours(thresh, cv2.RETR_EXTERNAL, cv2.CHAIN_APPROX_SIMPLE)\n",
        "        if contours:\n",
        "            c = max(contours, key=cv2.contourArea)\n",
        "            x, y, w, h = cv2.boundingRect(c)\n",
        "            crop = img[y:y+h, x:x+w]\n",
        "            return cv2.resize(crop, self.img_size)\n",
        "        else:\n",
        "            return cv2.resize(img, self.img_size)\n"
      ],
      "metadata": {
        "id": "IZv7X6-Afd4-"
      },
      "execution_count": null,
      "outputs": []
    },
    {
      "cell_type": "code",
      "source": [
        "IMG_SIZE = (128,128)\n",
        "BATCH_SIZE = 64\n",
        "\n",
        "# Try different methods like 'canny', 'otsu', 'crop'\n",
        "train_gen_canny = SegmentationDataGenerator(train_df, BATCH_SIZE, IMG_SIZE, method='canny', shuffle=True)\n",
        "val_gen_canny   = SegmentationDataGenerator(val_df,   BATCH_SIZE, IMG_SIZE, method='canny', shuffle=False)\n",
        "\n",
        "train_gen_otsu = SegmentationDataGenerator(train_df, BATCH_SIZE, IMG_SIZE, method='otsu', shuffle=True)\n",
        "val_gen_otsu   = SegmentationDataGenerator(val_df,   BATCH_SIZE, IMG_SIZE, method='otsu', shuffle=False)\n",
        "\n",
        "train_gen_crop = SegmentationDataGenerator(train_df, BATCH_SIZE, IMG_SIZE, method='crop', shuffle=True)\n",
        "val_gen_crop   = SegmentationDataGenerator(val_df,   BATCH_SIZE, IMG_SIZE, method='crop', shuffle=False)\n"
      ],
      "metadata": {
        "id": "Mw9HXgorlj1c"
      },
      "execution_count": null,
      "outputs": []
    },
    {
      "cell_type": "code",
      "source": [
        "from tensorflow.keras import layers, models\n",
        "\n",
        "# Define CNN model\n",
        "def create_cnn_model(input_shape=(128,128, 3)):\n",
        "    model = models.Sequential([\n",
        "        layers.Conv2D(32, (3, 3), activation='relu', input_shape=input_shape),\n",
        "        layers.MaxPooling2D((2, 2)),\n",
        "        layers.Conv2D(64, (3, 3), activation='relu'),\n",
        "        layers.MaxPooling2D((2, 2)),\n",
        "        layers.Conv2D(128, (3, 3), activation='relu'),\n",
        "        layers.MaxPooling2D((2, 2)),\n",
        "        layers.Flatten(),\n",
        "        layers.Dense(64, activation='relu'),\n",
        "        layers.Dense(4, activation='softmax')  # 4 classes\n",
        "    ])\n",
        "\n",
        "    model.compile(optimizer='adam',\n",
        "                  loss='categorical_crossentropy',\n",
        "                  metrics=['accuracy'])\n",
        "    return model\n",
        "\n",
        "# Set the batch size\n",
        "BATCH_SIZE = 64\n",
        "\n",
        "# Instantiate the model\n",
        "cnn_model = create_cnn_model()\n",
        "\n",
        "\n",
        "\n",
        "\n"
      ],
      "metadata": {
        "colab": {
          "base_uri": "https://localhost:8080/"
        },
        "id": "CFnVqtrJxjDc",
        "outputId": "0e8e783d-e2d1-4bf0-ee7d-2aa4b07868ec"
      },
      "execution_count": null,
      "outputs": [
        {
          "output_type": "stream",
          "name": "stderr",
          "text": [
            "/usr/local/lib/python3.11/dist-packages/keras/src/layers/convolutional/base_conv.py:107: UserWarning: Do not pass an `input_shape`/`input_dim` argument to a layer. When using Sequential models, prefer using an `Input(shape)` object as the first layer in the model instead.\n",
            "  super().__init__(activity_regularizer=activity_regularizer, **kwargs)\n"
          ]
        }
      ]
    },
    {
      "cell_type": "code",
      "source": [
        "from sklearn.utils import class_weight\n",
        "import numpy as np\n",
        "\n",
        "# Compute class weights\n",
        "class_weights = class_weight.compute_class_weight(\n",
        "    class_weight='balanced',\n",
        "    classes=np.unique(train_df['class']),\n",
        "    y=train_df['class']\n",
        ")\n",
        "\n",
        "# Map to index format required by model.fit()\n",
        "class_indices = train_gen.class_indices\n",
        "weights_dict = {class_indices[cls]: w for cls, w in zip(np.unique(train_df['class']), class_weights)}\n",
        "\n",
        "#print(\"Class weights for training:\", weights_dict)\n",
        "print(\"Class Indices and Weights:\")\n",
        "for cls, index in class_indices.items():\n",
        "    weight = weights_dict[index]\n",
        "    print(f\"Class: {cls}, Index: {index}, Weight: {weight}\")\n"
      ],
      "metadata": {
        "colab": {
          "base_uri": "https://localhost:8080/"
        },
        "id": "g-GWzb13nv5U",
        "outputId": "13d4b06f-0473-4b96-b170-95ee8050685a"
      },
      "execution_count": null,
      "outputs": [
        {
          "output_type": "stream",
          "name": "stdout",
          "text": [
            "Class Indices and Weights:\n",
            "Class: crazing defect, Index: 0, Weight: 7.209183673469388\n",
            "Class: patch defect, Index: 1, Weight: 2.204368174726989\n",
            "Class: pitted surface defect, Index: 2, Weight: 2.0128205128205128\n",
            "Class: scratch defect, Index: 3, Weight: 0.3435448577680525\n"
          ]
        }
      ]
    },
    {
      "cell_type": "code",
      "source": [
        "cnn_model.fit(\n",
        "    train_gen_canny,\n",
        "    steps_per_epoch=len(train_gen_canny),  # fixed\n",
        "    epochs=5,\n",
        "    validation_data=val_gen_canny,\n",
        "    validation_steps=len(val_gen_canny),  # fixed\n",
        "    class_weight={i: class_weights[i] for i in range(len(class_weights))}\n",
        ")\n"
      ],
      "metadata": {
        "colab": {
          "base_uri": "https://localhost:8080/"
        },
        "id": "nxjmb38Nm-ig",
        "outputId": "8ad343e1-2310-481f-fbc4-a1c72b5abd72"
      },
      "execution_count": null,
      "outputs": [
        {
          "output_type": "stream",
          "name": "stderr",
          "text": [
            "/usr/local/lib/python3.11/dist-packages/keras/src/trainers/data_adapters/py_dataset_adapter.py:121: UserWarning: Your `PyDataset` class should call `super().__init__(**kwargs)` in its constructor. `**kwargs` can include `workers`, `use_multiprocessing`, `max_queue_size`. Do not pass these arguments to `fit()`, as they will be ignored.\n",
            "  self._warn_if_super_not_called()\n"
          ]
        },
        {
          "output_type": "stream",
          "name": "stdout",
          "text": [
            "Epoch 1/5\n",
            "\u001b[1m177/177\u001b[0m \u001b[32m━━━━━━━━━━━━━━━━━━━━\u001b[0m\u001b[37m\u001b[0m \u001b[1m336s\u001b[0m 2s/step - accuracy: 0.4887 - loss: 1.3105 - val_accuracy: 0.4479 - val_loss: 1.0345\n",
            "Epoch 2/5\n",
            "\u001b[1m177/177\u001b[0m \u001b[32m━━━━━━━━━━━━━━━━━━━━\u001b[0m\u001b[37m\u001b[0m \u001b[1m392s\u001b[0m 2s/step - accuracy: 0.4115 - loss: 0.9935 - val_accuracy: 0.5141 - val_loss: 1.0011\n",
            "Epoch 3/5\n",
            "\u001b[1m177/177\u001b[0m \u001b[32m━━━━━━━━━━━━━━━━━━━━\u001b[0m\u001b[37m\u001b[0m \u001b[1m343s\u001b[0m 2s/step - accuracy: 0.4791 - loss: 0.8459 - val_accuracy: 0.5930 - val_loss: 0.8711\n",
            "Epoch 4/5\n",
            "\u001b[1m177/177\u001b[0m \u001b[32m━━━━━━━━━━━━━━━━━━━━\u001b[0m\u001b[37m\u001b[0m \u001b[1m382s\u001b[0m 2s/step - accuracy: 0.5302 - loss: 0.7448 - val_accuracy: 0.6676 - val_loss: 0.7786\n",
            "Epoch 5/5\n",
            "\u001b[1m177/177\u001b[0m \u001b[32m━━━━━━━━━━━━━━━━━━━━\u001b[0m\u001b[37m\u001b[0m \u001b[1m343s\u001b[0m 2s/step - accuracy: 0.6048 - loss: 0.6303 - val_accuracy: 0.6775 - val_loss: 0.7703\n"
          ]
        },
        {
          "output_type": "execute_result",
          "data": {
            "text/plain": [
              "<keras.src.callbacks.history.History at 0x7c462f3b0b50>"
            ]
          },
          "metadata": {},
          "execution_count": 86
        }
      ]
    },
    {
      "cell_type": "code",
      "source": [
        "# Assuming you've already encoded test_df['label'] with LabelEncoder as 'label'\n",
        "test_gen_canny = SegmentationDataGenerator(test_df, BATCH_SIZE, IMG_SIZE, method='canny', shuffle=False)\n",
        "\n",
        "# Predict probabilities\n",
        "y_probs = cnn_model.predict(test_gen_canny)\n",
        "\n",
        "# Convert predicted probabilities to class indices\n",
        "y_pred = np.argmax(y_probs, axis=1)\n",
        "\n",
        "# True labels\n",
        "y_true = test_df['label'].values"
      ],
      "metadata": {
        "colab": {
          "base_uri": "https://localhost:8080/"
        },
        "id": "2BnaWzrJ7k4w",
        "outputId": "43ba5e23-d4d5-4a5b-9e3e-def8a251945e"
      },
      "execution_count": null,
      "outputs": [
        {
          "output_type": "stream",
          "name": "stderr",
          "text": [
            "/usr/local/lib/python3.11/dist-packages/keras/src/trainers/data_adapters/py_dataset_adapter.py:121: UserWarning: Your `PyDataset` class should call `super().__init__(**kwargs)` in its constructor. `**kwargs` can include `workers`, `use_multiprocessing`, `max_queue_size`. Do not pass these arguments to `fit()`, as they will be ignored.\n",
            "  self._warn_if_super_not_called()\n"
          ]
        },
        {
          "output_type": "stream",
          "name": "stdout",
          "text": [
            "\u001b[1m12/12\u001b[0m \u001b[32m━━━━━━━━━━━━━━━━━━━━\u001b[0m\u001b[37m\u001b[0m \u001b[1m9s\u001b[0m 669ms/step\n"
          ]
        }
      ]
    },
    {
      "cell_type": "code",
      "source": [
        "loss, acc = cnn_model.evaluate(test_gen_canny)\n",
        "print(f\"Test Loss: {loss:.4f}\")\n",
        "print(f\"Test Accuracy: {acc:.4f}\")\n"
      ],
      "metadata": {
        "colab": {
          "base_uri": "https://localhost:8080/"
        },
        "id": "4fHYpD4i67IB",
        "outputId": "0d4f231e-06a6-4d5a-affd-9800854c4064"
      },
      "execution_count": null,
      "outputs": [
        {
          "output_type": "stream",
          "name": "stdout",
          "text": [
            "\u001b[1m12/12\u001b[0m \u001b[32m━━━━━━━━━━━━━━━━━━━━\u001b[0m\u001b[37m\u001b[0m \u001b[1m9s\u001b[0m 774ms/step - accuracy: 0.6563 - loss: 0.8574\n",
            "Test Loss: 0.7845\n",
            "Test Accuracy: 0.6690\n"
          ]
        }
      ]
    },
    {
      "cell_type": "code",
      "source": [
        "from sklearn.metrics import classification_report\n",
        "\n",
        "# If you used LabelEncoder before, you can inverse transform to get class names\n",
        "class_names = le.classes_\n",
        "\n",
        "print(classification_report(y_true, y_pred, target_names=class_names))\n"
      ],
      "metadata": {
        "colab": {
          "base_uri": "https://localhost:8080/"
        },
        "id": "-vhmmYbq7roo",
        "outputId": "b26209de-e325-495e-b9c5-ebae356c5718"
      },
      "execution_count": null,
      "outputs": [
        {
          "output_type": "stream",
          "name": "stdout",
          "text": [
            "                       precision    recall  f1-score   support\n",
            "\n",
            "       crazing defect       0.46      0.75      0.57        24\n",
            "         patch defect       0.33      0.64      0.43        84\n",
            "pitted surface defect       0.49      0.61      0.54        89\n",
            "       scratch defect       0.88      0.68      0.77       510\n",
            "\n",
            "             accuracy                           0.67       707\n",
            "            macro avg       0.54      0.67      0.58       707\n",
            "         weighted avg       0.75      0.67      0.69       707\n",
            "\n"
          ]
        }
      ]
    },
    {
      "cell_type": "code",
      "source": [
        "from sklearn.metrics import confusion_matrix\n",
        "import seaborn as sns\n",
        "import matplotlib.pyplot as plt\n",
        "\n",
        "cm = confusion_matrix(y_true, y_pred)\n",
        "plt.figure(figsize=(8,6))\n",
        "sns.heatmap(cm, annot=True, fmt='d', xticklabels=class_names, yticklabels=class_names, cmap='Blues')\n",
        "plt.xlabel('Predicted')\n",
        "plt.ylabel('True')\n",
        "plt.title('Confusion Matrix')\n",
        "plt.show()\n"
      ],
      "metadata": {
        "colab": {
          "base_uri": "https://localhost:8080/",
          "height": 564
        },
        "id": "bpklMg-07x7u",
        "outputId": "20bd65c2-08a6-4eb3-8415-bea6e7e764d4"
      },
      "execution_count": null,
      "outputs": [
        {
          "output_type": "display_data",
          "data": {
            "text/plain": [
              "<Figure size 800x600 with 2 Axes>"
            ],
            "image/png": "[encoded data removed]"
          },
          "metadata": {}
        }
      ]
    },
    {
      "cell_type": "code",
      "source": [
        "cnn_model.fit(\n",
        "    train_gen_otsu,\n",
        "    steps_per_epoch=len(train_gen_otsu),  # fixed\n",
        "    epochs=5,\n",
        "    validation_data=val_gen_otsu,\n",
        "    validation_steps=len(val_gen_otsu),  # fixed\n",
        "    class_weight={i: class_weights[i] for i in range(len(class_weights))}\n",
        ")\n"
      ],
      "metadata": {
        "colab": {
          "base_uri": "https://localhost:8080/"
        },
        "outputId": "40d4b425-ec29-4fee-ed4e-7f3e1c3c23ab",
        "id": "ggd4qHqn77JO"
      },
      "execution_count": null,
      "outputs": [
        {
          "output_type": "stream",
          "name": "stderr",
          "text": [
            "/usr/local/lib/python3.11/dist-packages/keras/src/trainers/data_adapters/py_dataset_adapter.py:121: UserWarning: Your `PyDataset` class should call `super().__init__(**kwargs)` in its constructor. `**kwargs` can include `workers`, `use_multiprocessing`, `max_queue_size`. Do not pass these arguments to `fit()`, as they will be ignored.\n",
            "  self._warn_if_super_not_called()\n"
          ]
        },
        {
          "output_type": "stream",
          "name": "stdout",
          "text": [
            "Epoch 1/5\n",
            "\u001b[1m177/177\u001b[0m \u001b[32m━━━━━━━━━━━━━━━━━━━━\u001b[0m\u001b[37m\u001b[0m \u001b[1m327s\u001b[0m 2s/step - accuracy: 0.4599 - loss: 0.9327 - val_accuracy: 0.5465 - val_loss: 0.9221\n",
            "Epoch 2/5\n",
            "\u001b[1m177/177\u001b[0m \u001b[32m━━━━━━━━━━━━━━━━━━━━\u001b[0m\u001b[37m\u001b[0m \u001b[1m320s\u001b[0m 2s/step - accuracy: 0.5715 - loss: 0.7175 - val_accuracy: 0.5549 - val_loss: 0.9137\n",
            "Epoch 3/5\n",
            "\u001b[1m177/177\u001b[0m \u001b[32m━━━━━━━━━━━━━━━━━━━━\u001b[0m\u001b[37m\u001b[0m \u001b[1m329s\u001b[0m 2s/step - accuracy: 0.6528 - loss: 0.5578 - val_accuracy: 0.6380 - val_loss: 0.8579\n",
            "Epoch 4/5\n",
            "\u001b[1m177/177\u001b[0m \u001b[32m━━━━━━━━━━━━━━━━━━━━\u001b[0m\u001b[37m\u001b[0m \u001b[1m386s\u001b[0m 2s/step - accuracy: 0.7297 - loss: 0.4567 - val_accuracy: 0.6803 - val_loss: 0.7948\n",
            "Epoch 5/5\n",
            "\u001b[1m177/177\u001b[0m \u001b[32m━━━━━━━━━━━━━━━━━━━━\u001b[0m\u001b[37m\u001b[0m \u001b[1m327s\u001b[0m 2s/step - accuracy: 0.7816 - loss: 0.3861 - val_accuracy: 0.7408 - val_loss: 0.6613\n"
          ]
        },
        {
          "output_type": "execute_result",
          "data": {
            "text/plain": [
              "<keras.src.callbacks.history.History at 0x7c463bb38b50>"
            ]
          },
          "metadata": {},
          "execution_count": 91
        }
      ]
    },
    {
      "cell_type": "code",
      "source": [
        "# Assuming you've already encoded test_df['label'] with LabelEncoder as 'label'\n",
        "test_gen_otsu = SegmentationDataGenerator(test_df, BATCH_SIZE, IMG_SIZE, method='otsu', shuffle=False)\n",
        "\n",
        "# Predict probabilities\n",
        "y_probs = cnn_model.predict(test_gen_otsu)\n",
        "\n",
        "# Convert predicted probabilities to class indices\n",
        "y_pred = np.argmax(y_probs, axis=1)\n",
        "\n",
        "# True labels\n",
        "y_true = test_df['label'].values"
      ],
      "metadata": {
        "colab": {
          "base_uri": "https://localhost:8080/"
        },
        "outputId": "d3e619ed-b25d-4f87-8e22-9e4be99f5f32",
        "id": "d5xNRXZoCnn7"
      },
      "execution_count": null,
      "outputs": [
        {
          "output_type": "stream",
          "name": "stderr",
          "text": [
            "/usr/local/lib/python3.11/dist-packages/keras/src/trainers/data_adapters/py_dataset_adapter.py:121: UserWarning: Your `PyDataset` class should call `super().__init__(**kwargs)` in its constructor. `**kwargs` can include `workers`, `use_multiprocessing`, `max_queue_size`. Do not pass these arguments to `fit()`, as they will be ignored.\n",
            "  self._warn_if_super_not_called()\n"
          ]
        },
        {
          "output_type": "stream",
          "name": "stdout",
          "text": [
            "\u001b[1m12/12\u001b[0m \u001b[32m━━━━━━━━━━━━━━━━━━━━\u001b[0m\u001b[37m\u001b[0m \u001b[1m6s\u001b[0m 506ms/step\n"
          ]
        }
      ]
    },
    {
      "cell_type": "code",
      "source": [
        "loss, acc = cnn_model.evaluate(test_gen_canny)\n",
        "print(f\"Test Loss: {loss:.4f}\")\n",
        "print(f\"Test Accuracy: {acc:.4f}\")"
      ],
      "metadata": {
        "id": "hXs7Yf8cCz_E",
        "outputId": "623de196-ff93-49cb-83d5-ba5a1a1faac1",
        "colab": {
          "base_uri": "https://localhost:8080/"
        }
      },
      "execution_count": null,
      "outputs": [
        {
          "output_type": "stream",
          "name": "stdout",
          "text": [
            "\u001b[1m12/12\u001b[0m \u001b[32m━━━━━━━━━━━━━━━━━━━━\u001b[0m\u001b[37m\u001b[0m \u001b[1m9s\u001b[0m 697ms/step - accuracy: 0.6596 - loss: 4.7205\n",
            "Test Loss: 5.0121\n",
            "Test Accuracy: 0.6605\n"
          ]
        }
      ]
    },
    {
      "cell_type": "code",
      "source": [
        "from sklearn.metrics import classification_report\n",
        "\n",
        "class_names = le.classes_\n",
        "\n",
        "print(classification_report(y_true, y_pred, target_names=class_names))"
      ],
      "metadata": {
        "colab": {
          "base_uri": "https://localhost:8080/"
        },
        "id": "aVxlHPyfDVxg",
        "outputId": "3a0af20e-cf29-4ebf-fa0a-55bfef38b219"
      },
      "execution_count": null,
      "outputs": [
        {
          "output_type": "stream",
          "name": "stdout",
          "text": [
            "                       precision    recall  f1-score   support\n",
            "\n",
            "       crazing defect       0.25      0.08      0.12        24\n",
            "         patch defect       0.23      0.67      0.34        84\n",
            "pitted surface defect       0.57      0.27      0.37        89\n",
            "       scratch defect       0.80      0.64      0.71       510\n",
            "\n",
            "             accuracy                           0.58       707\n",
            "            macro avg       0.46      0.42      0.39       707\n",
            "         weighted avg       0.68      0.58      0.60       707\n",
            "\n"
          ]
        }
      ]
    },
    {
      "cell_type": "code",
      "source": [
        "from sklearn.metrics import confusion_matrix\n",
        "import seaborn as sns\n",
        "import matplotlib.pyplot as plt\n",
        "\n",
        "cm = confusion_matrix(y_true, y_pred)\n",
        "plt.figure(figsize=(8,6))\n",
        "sns.heatmap(cm, annot=True, fmt='d', xticklabels=class_names, yticklabels=class_names, cmap='Blues')\n",
        "plt.xlabel('Predicted')\n",
        "plt.ylabel('True')\n",
        "plt.title('Confusion Matrix')\n",
        "plt.show()"
      ],
      "metadata": {
        "colab": {
          "base_uri": "https://localhost:8080/",
          "height": 564
        },
        "id": "RXGZe3ShDa6b",
        "outputId": "94e4860b-cfbb-48fe-978b-8cf2c892df92"
      },
      "execution_count": null,
      "outputs": [
        {
          "output_type": "display_data",
          "data": {
            "text/plain": [
              "<Figure size 800x600 with 2 Axes>"
            ],
            "image/png": "[encoded data removed]"
          },
          "metadata": {}
        }
      ]
    },
    {
      "cell_type": "code",
      "source": [
        "cnn_model.fit(\n",
        "    train_gen_crop,\n",
        "    steps_per_epoch=len(train_gen_crop),  # fixed\n",
        "    epochs=5,\n",
        "    validation_data=val_gen_crop,\n",
        "    validation_steps=len(val_gen_crop),  # fixed\n",
        "    class_weight={i: class_weights[i] for i in range(len(class_weights))}\n",
        ")\n"
      ],
      "metadata": {
        "colab": {
          "base_uri": "https://localhost:8080/"
        },
        "outputId": "6b762a43-17ce-4db7-e3da-ea4ce0a73740",
        "id": "X2wEbaiIDhBB"
      },
      "execution_count": null,
      "outputs": [
        {
          "output_type": "stream",
          "name": "stderr",
          "text": [
            "/usr/local/lib/python3.11/dist-packages/keras/src/trainers/data_adapters/py_dataset_adapter.py:121: UserWarning: Your `PyDataset` class should call `super().__init__(**kwargs)` in its constructor. `**kwargs` can include `workers`, `use_multiprocessing`, `max_queue_size`. Do not pass these arguments to `fit()`, as they will be ignored.\n",
            "  self._warn_if_super_not_called()\n"
          ]
        },
        {
          "output_type": "stream",
          "name": "stdout",
          "text": [
            "Epoch 1/5\n",
            "\u001b[1m177/177\u001b[0m \u001b[32m━━━━━━━━━━━━━━━━━━━━\u001b[0m\u001b[37m\u001b[0m \u001b[1m356s\u001b[0m 2s/step - accuracy: 0.3181 - loss: 1.2583 - val_accuracy: 0.3563 - val_loss: 1.2058\n",
            "Epoch 2/5\n",
            "\u001b[1m177/177\u001b[0m \u001b[32m━━━━━━━━━━━━━━━━━━━━\u001b[0m\u001b[37m\u001b[0m \u001b[1m381s\u001b[0m 2s/step - accuracy: 0.4220 - loss: 1.0405 - val_accuracy: 0.5831 - val_loss: 0.9043\n",
            "Epoch 3/5\n",
            "\u001b[1m177/177\u001b[0m \u001b[32m━━━━━━━━━━━━━━━━━━━━\u001b[0m\u001b[37m\u001b[0m \u001b[1m371s\u001b[0m 2s/step - accuracy: 0.4637 - loss: 0.9451 - val_accuracy: 0.6014 - val_loss: 0.8536\n",
            "Epoch 4/5\n",
            "\u001b[1m177/177\u001b[0m \u001b[32m━━━━━━━━━━━━━━━━━━━━\u001b[0m\u001b[37m\u001b[0m \u001b[1m344s\u001b[0m 2s/step - accuracy: 0.5500 - loss: 0.7653 - val_accuracy: 0.6296 - val_loss: 0.8089\n",
            "Epoch 5/5\n",
            "\u001b[1m177/177\u001b[0m \u001b[32m━━━━━━━━━━━━━━━━━━━━\u001b[0m\u001b[37m\u001b[0m \u001b[1m404s\u001b[0m 2s/step - accuracy: 0.6035 - loss: 0.6824 - val_accuracy: 0.6127 - val_loss: 0.8735\n"
          ]
        },
        {
          "output_type": "execute_result",
          "data": {
            "text/plain": [
              "<keras.src.callbacks.history.History at 0x7c463b8af0d0>"
            ]
          },
          "metadata": {},
          "execution_count": 96
        }
      ]
    },
    {
      "cell_type": "code",
      "source": [
        "\n",
        "test_gen_crop = SegmentationDataGenerator(test_df, BATCH_SIZE, IMG_SIZE, method='crop', shuffle=False)\n",
        "\n",
        "# Predict probabilities\n",
        "y_probs = cnn_model.predict(test_gen_crop)\n",
        "\n",
        "# Convert predicted probabilities to class indices\n",
        "y_pred = np.argmax(y_probs, axis=1)\n",
        "\n",
        "# True labels\n",
        "y_true = test_df['label'].values"
      ],
      "metadata": {
        "colab": {
          "base_uri": "https://localhost:8080/"
        },
        "id": "9cLPYCTuLHpy",
        "outputId": "cb9c1fc6-0fce-4464-d83b-d9da67b75e22"
      },
      "execution_count": null,
      "outputs": [
        {
          "output_type": "stream",
          "name": "stderr",
          "text": [
            "/usr/local/lib/python3.11/dist-packages/keras/src/trainers/data_adapters/py_dataset_adapter.py:121: UserWarning: Your `PyDataset` class should call `super().__init__(**kwargs)` in its constructor. `**kwargs` can include `workers`, `use_multiprocessing`, `max_queue_size`. Do not pass these arguments to `fit()`, as they will be ignored.\n",
            "  self._warn_if_super_not_called()\n"
          ]
        },
        {
          "output_type": "stream",
          "name": "stdout",
          "text": [
            "\u001b[1m12/12\u001b[0m \u001b[32m━━━━━━━━━━━━━━━━━━━━\u001b[0m\u001b[37m\u001b[0m \u001b[1m10s\u001b[0m 802ms/step\n"
          ]
        }
      ]
    },
    {
      "cell_type": "code",
      "source": [
        "loss, acc = cnn_model.evaluate(test_gen_crop)\n",
        "print(f\"Test Loss: {loss:.4f}\")\n",
        "print(f\"Test Accuracy: {acc:.4f}\")"
      ],
      "metadata": {
        "colab": {
          "base_uri": "https://localhost:8080/"
        },
        "id": "sHy6cqJ0LXEX",
        "outputId": "cd792d27-e7a3-49b4-c973-ed6ae62fdfbb"
      },
      "execution_count": null,
      "outputs": [
        {
          "output_type": "stream",
          "name": "stdout",
          "text": [
            "\u001b[1m12/12\u001b[0m \u001b[32m━━━━━━━━━━━━━━━━━━━━\u001b[0m\u001b[37m\u001b[0m \u001b[1m12s\u001b[0m 961ms/step - accuracy: 0.5116 - loss: 1.1135\n",
            "Test Loss: 1.0042\n",
            "Test Accuracy: 0.5460\n"
          ]
        }
      ]
    },
    {
      "cell_type": "code",
      "source": [
        "from sklearn.metrics import classification_report\n",
        "\n",
        "class_names = le.classes_\n",
        "\n",
        "print(classification_report(y_true, y_pred, target_names=class_names))"
      ],
      "metadata": {
        "colab": {
          "base_uri": "https://localhost:8080/"
        },
        "id": "WJ-pc6SnLgxD",
        "outputId": "bbb4ea0b-b573-4679-d842-b3c220e73252"
      },
      "execution_count": null,
      "outputs": [
        {
          "output_type": "stream",
          "name": "stdout",
          "text": [
            "                       precision    recall  f1-score   support\n",
            "\n",
            "       crazing defect       0.31      0.46      0.37        24\n",
            "         patch defect       0.29      0.77      0.42        84\n",
            "pitted surface defect       0.37      0.75      0.49        89\n",
            "       scratch defect       0.92      0.48      0.63       510\n",
            "\n",
            "             accuracy                           0.55       707\n",
            "            macro avg       0.47      0.62      0.48       707\n",
            "         weighted avg       0.75      0.55      0.58       707\n",
            "\n"
          ]
        }
      ]
    },
    {
      "cell_type": "code",
      "source": [
        "from sklearn.metrics import confusion_matrix\n",
        "import seaborn as sns\n",
        "import matplotlib.pyplot as plt\n",
        "\n",
        "cm = confusion_matrix(y_true, y_pred)\n",
        "plt.figure(figsize=(8,6))\n",
        "sns.heatmap(cm, annot=True, fmt='d', xticklabels=class_names, yticklabels=class_names, cmap='Blues')\n",
        "plt.xlabel('Predicted')\n",
        "plt.ylabel('True')\n",
        "plt.title('Confusion Matrix')\n",
        "plt.show()"
      ],
      "metadata": {
        "colab": {
          "base_uri": "https://localhost:8080/",
          "height": 564
        },
        "id": "MBUkA8dwLkj6",
        "outputId": "7c8fe8f3-44e3-4194-f599-128ff6c650bb"
      },
      "execution_count": null,
      "outputs": [
        {
          "output_type": "display_data",
          "data": {
            "text/plain": [
              "<Figure size 800x600 with 2 Axes>"
            ],
            "image/png": "[encoded data removed]"
          },
          "metadata": {}
        }
      ]
    }
  ]
}