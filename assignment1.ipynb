{
 "cells": [
  {
   "cell_type": "code",
   "execution_count": 10,
   "id": "d3398c60-b557-417d-8bf7-0168481736aa",
   "metadata": {},
   "outputs": [
    {
     "name": "stdout",
     "output_type": "stream",
     "text": [
      "[[0. 0. 0.]\n",
      " [0. 5. 0.]\n",
      " [0. 0. 0.]]\n"
     ]
    }
   ],
   "source": [
    "#Basic NumPy Array Creation:\n",
    "# Given input:\n",
    "import numpy as np\n",
    "arr = np.zeros((3,3))\n",
    "arr[1][1]=5\n",
    "print(arr)"
   ]
  },
  {
   "cell_type": "code",
   "execution_count": 11,
   "id": "a2d1261f-1386-419f-91c9-f1c04667d24c",
   "metadata": {},
   "outputs": [
    {
     "name": "stdout",
     "output_type": "stream",
     "text": [
      "[[ 0  1  2  3]\n",
      " [ 4  5  6  7]\n",
      " [ 8  9 10 11]]\n"
     ]
    }
   ],
   "source": [
    "#Array Reshaping:\n",
    "# Given input:\n",
    "arr = np.arange(12)\n",
    "reshaped_arr = arr.reshape(3, 4)\n",
    "print(reshaped_arr)"
   ]
  },
  {
   "cell_type": "code",
   "execution_count": 12,
   "id": "78214db6-5499-4e7e-aac1-fc4dc4710020",
   "metadata": {},
   "outputs": [
    {
     "name": "stdout",
     "output_type": "stream",
     "text": [
      "[[10 10 10]\n",
      " [10 10 10]\n",
      " [10 10 10]]\n"
     ]
    }
   ],
   "source": [
    "#Element-wise Operations:\n",
    "# Given input:\n",
    "a = np.array([[1, 2, 3], [4, 5, 6], [7, 8, 9]])\n",
    "b = np.array([[9, 8, 7], [6, 5, 4], [3, 2, 1]])\n",
    "c=a+b\n",
    "print(c)"
   ]
  },
  {
   "cell_type": "code",
   "execution_count": 13,
   "id": "a36af5a1-c71a-44e7-b394-0475090ff60d",
   "metadata": {},
   "outputs": [
    {
     "name": "stdout",
     "output_type": "stream",
     "text": [
      "Second row: [4 5 6 7]\n",
      "Third column: [ 2  6 10 14]\n"
     ]
    }
   ],
   "source": [
    "#Indexing and Slicing:\n",
    "# Given input:\n",
    "arr = np.arange(16).reshape(4,4)\n",
    "second_row = arr[1, :]\n",
    "third_column = arr[:, 2]\n",
    "print(\"Second row:\", second_row)\n",
    "print(\"Third column:\", third_column)"
   ]
  },
  {
   "cell_type": "code",
   "execution_count": 15,
   "id": "cbd7e5b3-33e2-4cf0-b303-314f62d1280f",
   "metadata": {},
   "outputs": [
    {
     "name": "stdout",
     "output_type": "stream",
     "text": [
      "[15 25]\n"
     ]
    }
   ],
   "source": [
    "#Boolean Masking:\n",
    "# Given input output an array containing values of array arr that are > 10:\n",
    "arr = np.array([5, 15, 25, 10])\n",
    "arr1=arr[arr>10]\n",
    "print(arr1)\n",
    "# Desired output:\n",
    "# array([15, 25])"
   ]
  },
  {
   "cell_type": "code",
   "execution_count": 16,
   "id": "a446d562-9a73-44e5-9180-5446ebf1b977",
   "metadata": {},
   "outputs": [
    {
     "name": "stdout",
     "output_type": "stream",
     "text": [
      "Horizontal stack:\n",
      " [1 2 3 4 5 6]\n",
      "Vertical stack:\n",
      " [[1 2 3]\n",
      " [4 5 6]]\n"
     ]
    }
   ],
   "source": [
    "#Stacking Arrays:\n",
    "# Given input:\n",
    "a = np.array([1,2,3])\n",
    "b = np.array([4,5,6])\n",
    "# Horizontal stacking\n",
    "horizontal_stack = np.hstack((a, b))\n",
    "# Vertical stacking\n",
    "vertical_stack = np.vstack((a, b))\n",
    "print(\"Horizontal stack:\\n\", horizontal_stack)\n",
    "print(\"Vertical stack:\\n\", vertical_stack)\n"
   ]
  },
  {
   "cell_type": "code",
   "execution_count": 17,
   "id": "ceea423f-3a0a-486d-9156-e351e0cb2f7b",
   "metadata": {},
   "outputs": [
    {
     "name": "stdout",
     "output_type": "stream",
     "text": [
      "[[ 1  4  9]\n",
      " [ 4 10 18]]\n"
     ]
    }
   ],
   "source": [
    "#Broadcasting:\n",
    "# Given input:\n",
    "a = np.array([[1,2,3], [4,5,6]])\n",
    "b = np.array([1,2,3])\n",
    "result=a*b\n",
    "print(result)\n"
   ]
  },
  {
   "cell_type": "code",
   "execution_count": 18,
   "id": "1c6b6f0d-74d6-4e2d-9324-4a6d148d10b6",
   "metadata": {},
   "outputs": [
    {
     "name": "stdout",
     "output_type": "stream",
     "text": [
      "[[ 0  3  6  9 12]\n",
      " [ 1  4  7 10 13]\n",
      " [ 2  5  8 11 14]]\n"
     ]
    }
   ],
   "source": [
    "#Matrix Transposition:\n",
    "# Given input:\n",
    "arr = np.arange(15).reshape(5,3)\n",
    "transposed_arr = arr.T\n",
    "print(transposed_arr)"
   ]
  },
  {
   "cell_type": "code",
   "execution_count": 19,
   "id": "8b44f46c-824d-463b-81d2-d19da1718af6",
   "metadata": {},
   "outputs": [
    {
     "name": "stdout",
     "output_type": "stream",
     "text": [
      "[[19 22]\n",
      " [43 50]]\n"
     ]
    }
   ],
   "source": [
    "\n",
    "#Dot Product:\n",
    "# Given input:\n",
    "a = np.array([[1,2],[3,4]])\n",
    "b = np.array([[5,6],[7,8]])\n",
    "result=np.dot(a,b)\n",
    "print(result)"
   ]
  },
  {
   "cell_type": "code",
   "execution_count": 20,
   "id": "b7bca222-20d5-4c36-aa41-46b6a0449bb1",
   "metadata": {},
   "outputs": [
    {
     "name": "stdout",
     "output_type": "stream",
     "text": [
      "Mean: 3.0\n",
      "Standard deviation: 1.414\n"
     ]
    }
   ],
   "source": [
    "\n",
    "#Mean and Standard Deviation:\n",
    "# Given input:\n",
    "arr = np.array([1, 2, 3, 4, 5])\n",
    "arr = np.array([1, 2, 3, 4, 5])\n",
    "mean_value = np.mean(arr)\n",
    "std_value = np.std(arr)\n",
    "\n",
    "print(\"Mean:\", mean_value)\n",
    "print(\"Standard deviation:\", round(std_value, 3))"
   ]
  },
  {
   "cell_type": "code",
   "execution_count": 22,
   "id": "03044df3-894f-43c1-8a8f-3562740ae838",
   "metadata": {},
   "outputs": [
    {
     "name": "stdout",
     "output_type": "stream",
     "text": [
      "[[0. 0. 0. 0. 0.]\n",
      " [0. 0. 0. 0. 0.]\n",
      " [0. 0. 0. 0. 0.]\n",
      " [0. 0. 0. 0. 0.]\n",
      " [0. 0. 0. 0. 0.]]\n"
     ]
    }
   ],
   "source": [
    "# Question 1: Create a 5x5 NumPy array filled with zeros.\n",
    "a=np.zeros((5,5))\n",
    "print(a)\n"
   ]
  },
  {
   "cell_type": "code",
   "execution_count": 23,
   "id": "8e5c351b-0dfc-4300-8b0d-c9cb3952f0f9",
   "metadata": {},
   "outputs": [
    {
     "name": "stdout",
     "output_type": "stream",
     "text": [
      "[[1. 1. 1.]\n",
      " [1. 1. 1.]\n",
      " [1. 1. 1.]]\n"
     ]
    }
   ],
   "source": [
    "# Question 2: Create a 3x3 NumPy array filled with ones.\n",
    "b=np.ones((3,3));\n",
    "print(b)"
   ]
  },
  {
   "cell_type": "code",
   "execution_count": 25,
   "id": "ff32ec2a-78a3-4861-9dc6-9e355e68ec33",
   "metadata": {},
   "outputs": [
    {
     "name": "stdout",
     "output_type": "stream",
     "text": [
      "[[1. 0. 0. 0.]\n",
      " [0. 1. 0. 0.]\n",
      " [0. 0. 1. 0.]\n",
      " [0. 0. 0. 1.]]\n"
     ]
    }
   ],
   "source": [
    "# Question 3: Create a 4x4 identity matrix using NumPy.\n",
    "c=np.identity(4)\n",
    "print(c)\n"
   ]
  },
  {
   "cell_type": "code",
   "execution_count": 30,
   "id": "103617b8-baa8-4f15-baba-84c84a647fb2",
   "metadata": {},
   "outputs": [
    {
     "name": "stdout",
     "output_type": "stream",
     "text": [
      "[[0.34976998 0.00916953 0.33351499 0.56748175 0.46000138]\n",
      " [0.23524592 0.81152548 0.79095028 0.42046076 0.59548768]\n",
      " [0.83311187 0.79040687 0.73713099 0.53374534 0.93783324]\n",
      " [0.38835018 0.87915736 0.16329563 0.50673673 0.91044406]\n",
      " [0.7498333  0.75355226 0.70677297 0.34784138 0.29716456]]\n"
     ]
    }
   ],
   "source": [
    " #Question 4: Create a 2D NumPy array of shape (5, 5) with random values between 0 and 1.\n",
    "arr=np.random.rand(5,5)\n",
    "print(arr)\n"
   ]
  },
  {
   "cell_type": "code",
   "execution_count": 31,
   "id": "4fc8d151-4ce1-4556-95ab-5e1755e842ac",
   "metadata": {},
   "outputs": [
    {
     "name": "stdout",
     "output_type": "stream",
     "text": [
      "[0 1 2 3 4 5 6 7 8 9]\n"
     ]
    }
   ],
   "source": [
    "# Question 5: Create a 1D NumPy array of 10 elements with values ranging from 0 to 9.\n",
    "arr=np.arange(10)\n",
    "print(arr)"
   ]
  },
  {
   "cell_type": "code",
   "execution_count": 32,
   "id": "9570859e-5376-45b2-9d3a-fe0e611b5bb0",
   "metadata": {},
   "outputs": [
    {
     "name": "stdout",
     "output_type": "stream",
     "text": [
      "[[ 0  1  2  3]\n",
      " [ 4  5  6  7]\n",
      " [ 8  9 10 11]\n",
      " [12 13 14 15]]\n"
     ]
    }
   ],
   "source": [
    "# Question 6: Reshape a 1D array of 16 elements into a 4x4 2D array.\n",
    "arr=np.arange(16)\n",
    "arr1=arr.reshape(4,4)\n",
    "print(arr1)"
   ]
  },
  {
   "cell_type": "code",
   "execution_count": 33,
   "id": "85bf04d8-0865-49a8-81d0-bd3b79bb52e5",
   "metadata": {},
   "outputs": [
    {
     "name": "stdout",
     "output_type": "stream",
     "text": [
      "[1 2 3 4 5 6 7 8 9]\n"
     ]
    }
   ],
   "source": [
    "# Question 7: Flatten a 3x3 NumPy array into a 1D array.\n",
    "arr=np.array([[1, 2, 3],\n",
    "              [4, 5, 6],\n",
    "              [7, 8, 9]])\n",
    "# Flatten the array into 1D\n",
    "arr1=arr.flatten()\n",
    "print(arr1)"
   ]
  },
  {
   "cell_type": "code",
   "execution_count": 36,
   "id": "ee82e302-f890-48c3-8705-f7e3b4e142b1",
   "metadata": {},
   "outputs": [
    {
     "name": "stdout",
     "output_type": "stream",
     "text": [
      "Second row: [4 5 6 7]\n"
     ]
    }
   ],
   "source": [
    "# Question 8: Extract the second row from a 4x4 NumPy array.\n",
    "arr = np.arange(16).reshape(4,4)\n",
    "second_row = arr[1, :]\n",
    "print(\"Second row:\", second_row)"
   ]
  },
  {
   "cell_type": "code",
   "execution_count": 37,
   "id": "ff1275d8-b9f4-43fd-a048-a44e968c607a",
   "metadata": {},
   "outputs": [
    {
     "name": "stdout",
     "output_type": "stream",
     "text": [
      "Third column: [ 2  7 12 17 22]\n"
     ]
    }
   ],
   "source": [
    "# Question 9: Extract the third column from a 5x5 NumPy array.\n",
    "arr = np.arange(25).reshape(5,5)\n",
    "third_column = arr[:, 2]\n",
    "print(\"Third column:\", third_column)"
   ]
  },
  {
   "cell_type": "code",
   "execution_count": 38,
   "id": "287306c3-916d-455d-b96e-16686c39dab4",
   "metadata": {},
   "outputs": [
    {
     "name": "stdout",
     "output_type": "stream",
     "text": [
      "[[1 2 0]\n",
      " [0 3 4]\n",
      " [5 0 0]]\n"
     ]
    }
   ],
   "source": [
    "# Question 10: Replace all values greater than 5 in a NumPy array with 0.\n",
    "array=np.array([[1, 2, 6],\n",
    "                [7, 3, 4],\n",
    "                [5, 8, 9]])\n",
    "# Replace values greater than 5 with 0\n",
    "array[array > 5]=0\n",
    "print(array)"
   ]
  },
  {
   "cell_type": "code",
   "execution_count": 40,
   "id": "8ce4d728-4ff5-4835-a1bd-03ccb162a5b3",
   "metadata": {},
   "outputs": [
    {
     "name": "stdout",
     "output_type": "stream",
     "text": [
      "[[10 10 10]\n",
      " [10 10 10]\n",
      " [10 10 10]]\n"
     ]
    }
   ],
   "source": [
    "# Question 11: Add two 3x3 NumPy arrays element-wise.\n",
    "a=np.full((3, 3), 5)\n",
    "b=np.full((3, 3), 5)\n",
    "c=a+b\n",
    "print(c)\n",
    "\n",
    "# Desired Output:\n",
    "# [[10 10 10]\n",
    "#  [10 10 10]\n",
    "#  [10 10 10]]"
   ]
  },
  {
   "cell_type": "code",
   "execution_count": 42,
   "id": "d14a4fb0-98c3-47e0-9bc8-395bf72cda0d",
   "metadata": {},
   "outputs": [
    {
     "name": "stdout",
     "output_type": "stream",
     "text": [
      "[[2 4]\n",
      " [6 8]]\n"
     ]
    }
   ],
   "source": [
    "# Question 12: Multiply a 2x2 NumPy array by a scalar value (e.g., 2).\n",
    "arr=np.array([[1, 2],\n",
    "              [3, 4]])\n",
    "arr1=arr*2\n",
    "print(arr1)\n",
    "# Desired Output:\n",
    "# [[ 2  4]\n",
    "#  [ 6  8]]"
   ]
  },
  {
   "cell_type": "code",
   "execution_count": 43,
   "id": "d6addb50-8a35-42da-a714-ddbbc939a650",
   "metadata": {},
   "outputs": [
    {
     "name": "stdout",
     "output_type": "stream",
     "text": [
      "[[19 22]\n",
      " [43 50]]\n"
     ]
    }
   ],
   "source": [
    "a = np.array([[1, 2],\n",
    "              [3, 4]])\n",
    "b = np.array([[5, 6],\n",
    "              [7, 8]])\n",
    "result = np.dot(a, b)\n",
    "print(result)"
   ]
  },
  {
   "cell_type": "code",
   "execution_count": 45,
   "id": "86f583a9-9952-46f5-a099-e8210522aa69",
   "metadata": {},
   "outputs": [
    {
     "name": "stdout",
     "output_type": "stream",
     "text": [
      "9\n",
      "7.5\n"
     ]
    }
   ],
   "source": [
    "\n",
    "# Question 14: Find the maximum value in a 3x3 NumPy array.\n",
    "a=np.array([[1, 2, 3],\n",
    "            [4, 5, 6],\n",
    "            [7, 8, 9]])\n",
    "maxm=np.max(a)\n",
    "print(maxm)\n",
    "# Desired Output:\n",
    "# 9\n",
    "\n",
    "# Question 15: Compute the mean of all values in a 4x4 NumPy array.\n",
    "b=np.arange(16).reshape(4, 4)\n",
    "avg=np.mean(b)\n",
    "print(avg)\n",
    "# Desired Output:\n",
    "# 7.5"
   ]
  },
  {
   "cell_type": "code",
   "execution_count": 46,
   "id": "8320d613-1514-4f83-a881-0a7fe067f738",
   "metadata": {},
   "outputs": [
    {
     "name": "stdout",
     "output_type": "stream",
     "text": [
      "[[120 207  76  60 183]\n",
      " [ 90 215 200  54  44]\n",
      " [162  62 158 101 194]\n",
      " [ 50  25 209 123  75]\n",
      " [171 212 215  37  36]]\n"
     ]
    }
   ],
   "source": [
    "# Question 16: Create a 5x5 2D array with random integer values between 0 and 255.\n",
    "a=np.random.randint(0, 256, (5, 5))\n",
    "print(a)\n"
   ]
  },
  {
   "cell_type": "code",
   "execution_count": 47,
   "id": "605f3479-ab06-4f8d-911d-4428408bb05c",
   "metadata": {},
   "outputs": [
    {
     "name": "stdout",
     "output_type": "stream",
     "text": [
      "[[0.42857143 0.11059908 0.24884793 0.01382488 0.99539171]\n",
      " [0.7235023  0.70046083 0.62211982 0.38248848 0.44239631]\n",
      " [0.11520737 0.18894009 0.08294931 0.         0.20276498]\n",
      " [0.07834101 0.80184332 0.04147465 0.23963134 0.70046083]\n",
      " [1.         0.60368664 0.34101382 1.         0.89861751]]\n"
     ]
    }
   ],
   "source": [
    "# Question 17: Normalize a 5x5 2D array so that all values are between 0 and 1.\n",
    "array=np.random.randint(0, 256, (5, 5))\n",
    "b= (array - array.min()) / (array.max() - array.min())\n",
    "print(b)"
   ]
  },
  {
   "cell_type": "code",
   "execution_count": 50,
   "id": "ca6ae2d7-dd89-4879-9b40-3aefc3abcb15",
   "metadata": {},
   "outputs": [
    {
     "name": "stdout",
     "output_type": "stream",
     "text": [
      "[[215  48 177 247  40]\n",
      " [229  16 222  45  70]\n",
      " [237  42  83 132 175]\n",
      " [201 133  56  96  97]\n",
      " [ 90  53 112 158 126]]\n",
      "[[255   0 255 255   0]\n",
      " [255   0 255   0   0]\n",
      " [255   0   0 255 255]\n",
      " [255 255   0   0   0]\n",
      " [  0   0   0 255   0]]\n"
     ]
    }
   ],
   "source": [
    "# Question 18: Convert a 5x5 2D array to a binary array by setting values > 128 to 255 and others to 0.\n",
    "a=np.random.randint(0, 256, (5, 5))\n",
    "b=np.where(a> 128, 255, 0)\n",
    "print(a)\n",
    "print(b)\n"
   ]
  },
  {
   "cell_type": "code",
   "execution_count": 52,
   "id": "5c4d8983-1134-432a-9319-5b2d6de56ae9",
   "metadata": {},
   "outputs": [
    {
     "name": "stdout",
     "output_type": "stream",
     "text": [
      "[[3 2 1]\n",
      " [6 5 4]\n",
      " [9 8 7]]\n"
     ]
    }
   ],
   "source": [
    "# Question 19: Flip a 3x3 2D array horizontally.\n",
    "a=np.arange(1,10).reshape(3,3)\n",
    "b= a[:, ::-1]\n",
    "print(b)\n",
    "\n"
   ]
  },
  {
   "cell_type": "code",
   "execution_count": 54,
   "id": "1c9276d3-a960-4dad-83c2-dc5cc1ef740d",
   "metadata": {},
   "outputs": [
    {
     "name": "stdout",
     "output_type": "stream",
     "text": [
      "[[7 4 1]\n",
      " [8 5 2]\n",
      " [9 6 3]]\n"
     ]
    }
   ],
   "source": [
    "# Question 20: Rotate a 3x3 2D array by 90 degrees clockwise.\n",
    "a=np.arange(1,10).reshape(3,3)\n",
    "b=np.rot90(a,k=-1)\n",
    "print(b)"
   ]
  },
  {
   "cell_type": "code",
   "execution_count": 55,
   "id": "52d17888-79c6-42ca-a8e4-dd3a2ebde7a6",
   "metadata": {},
   "outputs": [
    {
     "name": "stdout",
     "output_type": "stream",
     "text": [
      "[[[253 228  19]\n",
      "  [147  61 197]\n",
      "  [ 26 252 239]\n",
      "  [205 229 122]\n",
      "  [ 57 223 201]]\n",
      "\n",
      " [[190 153 116]\n",
      "  [ 71 150 126]\n",
      "  [ 58  87   7]\n",
      "  [253 221  37]\n",
      "  [127  43  39]]\n",
      "\n",
      " [[ 92 231  50]\n",
      "  [ 34 157 163]\n",
      "  [ 85   8 152]\n",
      "  [183  93 184]\n",
      "  [110  68 198]]\n",
      "\n",
      " [[ 29 193 188]\n",
      "  [ 77   6 226]\n",
      "  [165 176 142]\n",
      "  [109  99 138]\n",
      "  [ 99 220 233]]\n",
      "\n",
      " [[186  59 198]\n",
      "  [ 80 125 113]\n",
      "  [240  95 216]\n",
      "  [ 81  45  58]\n",
      "  [ 25 234 148]]]\n"
     ]
    }
   ],
   "source": [
    "# Question 21: Create a 3D array of shape (5, 5, 3) with random integer values between 0 and 255.\n",
    "# Desired Output: (Random values, example)\n",
    "\n",
    "a=np.random.randint(0,255,(5,5,3))\n",
    "print(a)"
   ]
  },
  {
   "cell_type": "code",
   "execution_count": 57,
   "id": "3aa6cab3-0c4e-451d-87e3-acb0daf1816d",
   "metadata": {},
   "outputs": [
    {
     "name": "stdout",
     "output_type": "stream",
     "text": [
      "[[207 135 154 122 205]\n",
      " [194 209   8  88  51]\n",
      " [133 242 177 130 156]\n",
      " [ 32 195 245 249 112]\n",
      " [206  34 143  55 206]]\n"
     ]
    }
   ],
   "source": [
    "# Question 22: Extract the first channel from a 5x5x3 3D array.\n",
    "a=np.random.randint(0,255,(5,5,3))\n",
    "first_c=a[:,:,0]\n",
    "print(first_c)"
   ]
  },
  {
   "cell_type": "code",
   "execution_count": 68,
   "id": "d820521c-d654-4a9c-bcf6-d2571f3914c0",
   "metadata": {},
   "outputs": [
    {
     "name": "stdout",
     "output_type": "stream",
     "text": [
      "[[[ 25 115 120]\n",
      "  [115  31  46]\n",
      "  [137 168  71]\n",
      "  [216 149  89]\n",
      "  [ 47 111 230]]\n",
      "\n",
      " [[125 245 230]\n",
      "  [244 250 222]\n",
      "  [171  62  64]\n",
      "  [249 249 112]\n",
      "  [ 95  59  31]]\n",
      "\n",
      " [[ 95  96  78]\n",
      "  [129 148 180]\n",
      "  [ 17 168  15]\n",
      "  [ 30  95 213]\n",
      "  [ 15 147 140]]\n",
      "\n",
      " [[220 218  77]\n",
      "  [  5 179  51]\n",
      "  [ 72  67 106]\n",
      "  [ 85  82  98]\n",
      "  [222 189 169]]\n",
      "\n",
      " [[ 77 125  68]\n",
      "  [194 223  10]\n",
      "  [139 174 123]\n",
      "  [135  30 228]\n",
      "  [ 10 116  45]]]\n"
     ]
    }
   ],
   "source": [
    "# Question 23: Swap the second and third channels of a 5x5x3 3D array.\n",
    "a=np.random.randint(0,255,(5,5,3))\n",
    "swapped_channels=a[:, :, [0, 2, 1]]\n",
    "print(swapped_channels)\n"
   ]
  },
  {
   "cell_type": "code",
   "execution_count": 64,
   "id": "f46c60bb-9233-4d4e-bd8d-100c0a4c146d",
   "metadata": {},
   "outputs": [
    {
     "name": "stdout",
     "output_type": "stream",
     "text": [
      "Original Array:\n",
      " [[ 42  17 187  76  46]\n",
      " [237 128 232 110 208]\n",
      " [ 61 225 181 121  34]\n",
      " [196  17 253 151 174]\n",
      " [157 240 191 226 197]]\n",
      "\n",
      "Smoothed Array:\n",
      " [[ 47  93  83  95  48]\n",
      " [ 78 145 141 132  66]\n",
      " [ 96 170 157 162  88]\n",
      " [ 99 169 178 169 100]\n",
      " [ 67 117 119 132  83]]\n"
     ]
    }
   ],
   "source": [
    "# Question 24: Apply a smoothing operation to a 5x5 2D array using a 3x3 kernel.\n",
    "from scipy.ndimage import convolve\n",
    "array_2d = np.random.randint(0, 256, (5, 5))\n",
    "kernel = np.ones((3, 3)) / 9\n",
    "smoothed_array = convolve(array_2d, kernel, mode='constant', cval=0)\n",
    "\n",
    "print(\"Original Array:\\n\", array_2d)\n",
    "print(\"\\nSmoothed Array:\\n\", smoothed_array)"
   ]
  },
  {
   "cell_type": "code",
   "execution_count": 66,
   "id": "c26b763a-2867-4c0f-acfa-4e3f408a173b",
   "metadata": {},
   "outputs": [
    {
     "name": "stdout",
     "output_type": "stream",
     "text": [
      "[[ 0  0  1  1  2  2  3  3]\n",
      " [ 0  0  1  1  2  2  3  3]\n",
      " [ 4  4  5  5  6  6  7  7]\n",
      " [ 4  4  5  5  6  6  7  7]\n",
      " [ 8  8  9  9 10 10 11 11]\n",
      " [ 8  8  9  9 10 10 11 11]\n",
      " [12 12 13 13 14 14 15 15]\n",
      " [12 12 13 13 14 14 15 15]]\n"
     ]
    }
   ],
   "source": [
    "# Question 25: Resize a 4x4 2D array to 8x8 using nearest-neighbor interpolation.\n",
    "array = np.arange(16).reshape(4, 4)\n",
    "resized_array = np.repeat(np.repeat(array, 2, axis=0), 2, axis=1)\n",
    "print(resized_array)"
   ]
  },
  {
   "cell_type": "code",
   "execution_count": null,
   "id": "6e8a5ce3-f5fd-4fd0-b6e5-e9515da93ae4",
   "metadata": {},
   "outputs": [],
   "source": []
  }
 ],
 "metadata": {
  "kernelspec": {
   "display_name": "Python 3 (ipykernel)",
   "language": "python",
   "name": "python3"
  },
  "language_info": {
   "codemirror_mode": {
    "name": "ipython",
    "version": 3
   },
   "file_extension": ".py",
   "mimetype": "text/x-python",
   "name": "python",
   "nbconvert_exporter": "python",
   "pygments_lexer": "ipython3",
   "version": "3.13.1"
  }
 },
 "nbformat": 4,
 "nbformat_minor": 5
}
